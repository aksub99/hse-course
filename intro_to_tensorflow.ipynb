{
  "nbformat": 4,
  "nbformat_minor": 0,
  "metadata": {
    "colab": {
      "name": "intro_to_tensorflow.ipynb",
      "version": "0.3.2",
      "provenance": [],
      "include_colab_link": true
    },
    "kernelspec": {
      "display_name": "Python 3",
      "language": "python",
      "name": "python3"
    }
  },
  "cells": [
    {
      "cell_type": "markdown",
      "metadata": {
        "id": "view-in-github",
        "colab_type": "text"
      },
      "source": [
        "[View in Colaboratory](https://colab.research.google.com/github/aksub99/hse-course/blob/master/intro_to_tensorflow.ipynb)"
      ]
    },
    {
      "metadata": {
        "id": "gutdL_DHpFoU",
        "colab_type": "text"
      },
      "cell_type": "markdown",
      "source": [
        "# Intro to TensorFlow\n",
        "\n",
        "This notebook covers the basics of TF and shows you an animation with gradient descent trajectory.\n",
        "<img src=\"https://github.com/hse-aml/intro-to-dl/blob/master/week2/v2/images/gradient_descent.png?raw=1\" style=\"width:50%\">"
      ]
    },
    {
      "metadata": {
        "id": "F28b6EmLpFok",
        "colab_type": "text"
      },
      "cell_type": "markdown",
      "source": [
        "# TensorBoard"
      ]
    },
    {
      "metadata": {
        "id": "DuzADM7opFol",
        "colab_type": "text"
      },
      "cell_type": "markdown",
      "source": [
        "**Plase note that if you are running on the Coursera platform, you won't be able to access the tensorboard instance due to the network setup there.**\n",
        "\n",
        "Run `tensorboard --logdir=./tensorboard_logs --port=7007` in bash.\n",
        "\n",
        "If you run the notebook locally, you should be able to access TensorBoard on http://127.0.0.1:7007/"
      ]
    },
    {
      "metadata": {
        "id": "SBCMKuFrpFom",
        "colab_type": "code",
        "colab": {
          "base_uri": "https://localhost:8080/",
          "height": 170
        },
        "outputId": "53dc2962-dd5d-48e6-ad18-c1ff3fdb82ca"
      },
      "cell_type": "code",
      "source": [
        "! wget https://raw.githubusercontent.com/hse-aml/intro-to-dl/master/setup_google_colab.py -O setup_google_colab.py\n",
        "import setup_google_colab\n",
        "setup_google_colab.setup_week2_v2()  # change to the week you're working on\n",
        "# note on week 2: select setup_week2_v2() if you've started the course after August 13, 2018,\n",
        "# otherwise call setup_week2().\n",
        "\n",
        "import tensorflow as tf\n",
        "import sys\n",
        "sys.path.append(\"../..\")\n",
        "from keras_utils import reset_tf_session\n",
        "s = reset_tf_session()\n",
        "print(\"We're using TF\", tf.__version__)"
      ],
      "execution_count": 15,
      "outputs": [
        {
          "output_type": "stream",
          "text": [
            "\n",
            "Redirecting output to ‘wget-log.1’.\n",
            "**************************************************\n",
            "inception_v3_weights_tf_dim_ordering_tf_kernels_notop.h5\n",
            "**************************************************\n",
            "cifar-10-batches-py.tar.gz\n",
            "**************************************************\n",
            "mnist.npz\n",
            "We're using TF 1.11.0-rc2\n"
          ],
          "name": "stdout"
        }
      ]
    },
    {
      "metadata": {
        "id": "TLa86aMIpFoq",
        "colab_type": "text"
      },
      "cell_type": "markdown",
      "source": [
        "# Warming up\n",
        "For starters, let's implement a python function that computes the sum of squares of numbers from 0 to N-1."
      ]
    },
    {
      "metadata": {
        "id": "YJZHM6s4pFor",
        "colab_type": "code",
        "colab": {}
      },
      "cell_type": "code",
      "source": [
        "import numpy as np\n",
        "\n",
        "def sum_python(N):\n",
        "    return np.sum(np.arange(N)**2)"
      ],
      "execution_count": 0,
      "outputs": []
    },
    {
      "metadata": {
        "id": "xkeVeXJppFou",
        "colab_type": "code",
        "colab": {
          "base_uri": "https://localhost:8080/",
          "height": 68
        },
        "outputId": "8a6a2433-d66e-431a-bb99-80544bf30d98"
      },
      "cell_type": "code",
      "source": [
        "%%time\n",
        "sum_python(10**5)"
      ],
      "execution_count": 17,
      "outputs": [
        {
          "output_type": "stream",
          "text": [
            "CPU times: user 222 µs, sys: 1.1 ms, total: 1.33 ms\n",
            "Wall time: 1.35 ms\n"
          ],
          "name": "stdout"
        },
        {
          "output_type": "execute_result",
          "data": {
            "text/plain": [
              "333328333350000"
            ]
          },
          "metadata": {
            "tags": []
          },
          "execution_count": 17
        }
      ]
    },
    {
      "metadata": {
        "id": "UGqLVCSkpFo5",
        "colab_type": "text"
      },
      "cell_type": "markdown",
      "source": [
        "# Tensoflow teaser\n",
        "\n",
        "Doing the very same thing"
      ]
    },
    {
      "metadata": {
        "id": "Nbs3NYVQpFo6",
        "colab_type": "code",
        "colab": {}
      },
      "cell_type": "code",
      "source": [
        "# An integer parameter\n",
        "N = tf.placeholder('int64', name=\"input_to_your_function\")\n",
        "\n",
        "# A recipe on how to produce the same result\n",
        "result = tf.reduce_sum(tf.range(N)**2)"
      ],
      "execution_count": 0,
      "outputs": []
    },
    {
      "metadata": {
        "id": "TAMAMTQXpFo9",
        "colab_type": "code",
        "colab": {
          "base_uri": "https://localhost:8080/",
          "height": 34
        },
        "outputId": "512dea56-531f-4b85-f17f-3a8e623fa83b"
      },
      "cell_type": "code",
      "source": [
        "# just a graph definition\n",
        "result"
      ],
      "execution_count": 19,
      "outputs": [
        {
          "output_type": "execute_result",
          "data": {
            "text/plain": [
              "<tf.Tensor 'Sum:0' shape=() dtype=int64>"
            ]
          },
          "metadata": {
            "tags": []
          },
          "execution_count": 19
        }
      ]
    },
    {
      "metadata": {
        "id": "_RjIB-_JpFpA",
        "colab_type": "code",
        "colab": {
          "base_uri": "https://localhost:8080/",
          "height": 68
        },
        "outputId": "3f629d07-462e-4f78-abad-d46e7d577f3b"
      },
      "cell_type": "code",
      "source": [
        "%%time\n",
        "# actually executing\n",
        "result.eval({N: 10**5})"
      ],
      "execution_count": 20,
      "outputs": [
        {
          "output_type": "stream",
          "text": [
            "CPU times: user 4.94 ms, sys: 962 µs, total: 5.91 ms\n",
            "Wall time: 10.2 ms\n"
          ],
          "name": "stdout"
        },
        {
          "output_type": "execute_result",
          "data": {
            "text/plain": [
              "333328333350000"
            ]
          },
          "metadata": {
            "tags": []
          },
          "execution_count": 20
        }
      ]
    },
    {
      "metadata": {
        "id": "y-T3BtOnpFpD",
        "colab_type": "code",
        "colab": {}
      },
      "cell_type": "code",
      "source": [
        "# logger for tensorboard\n",
        "writer = tf.summary.FileWriter(\"tensorboard_logs\", graph=s.graph)"
      ],
      "execution_count": 0,
      "outputs": []
    },
    {
      "metadata": {
        "id": "XFdU-saEpFpO",
        "colab_type": "text"
      },
      "cell_type": "markdown",
      "source": [
        "# How does it work?\n",
        "1. Define placeholders where you'll send inputs\n",
        "2. Make a symbolic graph: a recipe for mathematical transformation of those placeholders\n",
        "3. Compute outputs of your graph with particular values for each placeholder\n",
        "  * `output.eval({placeholder: value})`\n",
        "  * `s.run(output, {placeholder: value})`\n",
        "\n",
        "So far there are two main entities: \"placeholder\" and \"transformation\" (operation output)\n",
        "* Both can be numbers, vectors, matrices, tensors, etc.\n",
        "* Both can be int32/64, floats, booleans (uint8) of various size.\n",
        "\n",
        "* You can define new transformations as an arbitrary operation on placeholders and other transformations\n",
        " * `tf.reduce_sum(tf.arange(N)**2)` are 3 sequential transformations of placeholder `N`\n",
        " * There's a tensorflow symbolic version for every numpy function\n",
        "   * `a+b, a/b, a**b, ...` behave just like in numpy\n",
        "   * `np.mean` -> `tf.reduce_mean`\n",
        "   * `np.arange` -> `tf.range`\n",
        "   * `np.cumsum` -> `tf.cumsum`\n",
        "   * If you can't find the operation you need, see the [docs](https://www.tensorflow.org/versions/r1.3/api_docs/python).\n",
        "   \n",
        "`tf.contrib` has many high-level features, may be worth a look."
      ]
    },
    {
      "metadata": {
        "id": "jS3xu07VpFpP",
        "colab_type": "code",
        "colab": {}
      },
      "cell_type": "code",
      "source": [
        "with tf.name_scope(\"Placeholders_examples\"):\n",
        "    # Default placeholder that can be arbitrary float32\n",
        "    # scalar, vertor, matrix, etc.\n",
        "    arbitrary_input = tf.placeholder('float32')\n",
        "\n",
        "    # Input vector of arbitrary length\n",
        "    input_vector = tf.placeholder('float32', shape=(None,))\n",
        "\n",
        "    # Input vector that _must_ have 10 elements and integer type\n",
        "    fixed_vector = tf.placeholder('int32', shape=(10,))\n",
        "\n",
        "    # Matrix of arbitrary n_rows and 15 columns\n",
        "    # (e.g. a minibatch of your data table)\n",
        "    input_matrix = tf.placeholder('float32', shape=(None, 15))\n",
        "    \n",
        "    # You can generally use None whenever you don't need a specific shape\n",
        "    input1 = tf.placeholder('float64', shape=(None, 100, None))\n",
        "    input2 = tf.placeholder('int32', shape=(None, None, 3, 224, 224))\n",
        "\n",
        "    # elementwise multiplication\n",
        "    double_the_vector = input_vector*2\n",
        "\n",
        "    # elementwise cosine\n",
        "    elementwise_cosine = tf.cos(input_vector)\n",
        "\n",
        "    # difference between squared vector and vector itself plus one\n",
        "    vector_squares = input_vector**2 - input_vector + 1"
      ],
      "execution_count": 0,
      "outputs": []
    },
    {
      "metadata": {
        "id": "fjeleEgLpFpW",
        "colab_type": "code",
        "colab": {}
      },
      "cell_type": "code",
      "source": [
        "my_vector =  tf.placeholder('float32', shape=(None,), name=\"VECTOR_1\")\n",
        "my_vector2 = tf.placeholder('float32', shape=(None,))\n",
        "my_transformation = my_vector * my_vector2 / (tf.sin(my_vector) + 1)"
      ],
      "execution_count": 0,
      "outputs": []
    },
    {
      "metadata": {
        "id": "P9VneY1wpFpa",
        "colab_type": "code",
        "colab": {
          "base_uri": "https://localhost:8080/",
          "height": 34
        },
        "outputId": "d66c5a7b-708d-47fb-e238-857271445001"
      },
      "cell_type": "code",
      "source": [
        "print(my_transformation)"
      ],
      "execution_count": 24,
      "outputs": [
        {
          "output_type": "stream",
          "text": [
            "Tensor(\"truediv:0\", shape=(?,), dtype=float32)\n"
          ],
          "name": "stdout"
        }
      ]
    },
    {
      "metadata": {
        "id": "S-sTK4P0pFpd",
        "colab_type": "code",
        "colab": {
          "base_uri": "https://localhost:8080/",
          "height": 68
        },
        "outputId": "604f2d1c-15ac-4415-ed90-ef5de6e0487b"
      },
      "cell_type": "code",
      "source": [
        "dummy = np.arange(5).astype('float32')\n",
        "print(dummy)\n",
        "my_transformation.eval({my_vector: dummy, my_vector2: dummy[::-1]})"
      ],
      "execution_count": 25,
      "outputs": [
        {
          "output_type": "stream",
          "text": [
            "[0. 1. 2. 3. 4.]\n"
          ],
          "name": "stdout"
        },
        {
          "output_type": "execute_result",
          "data": {
            "text/plain": [
              "array([0.       , 1.6291324, 2.0950115, 2.6289961, 0.       ],\n",
              "      dtype=float32)"
            ]
          },
          "metadata": {
            "tags": []
          },
          "execution_count": 25
        }
      ]
    },
    {
      "metadata": {
        "id": "-rRbRJKcpFps",
        "colab_type": "code",
        "colab": {}
      },
      "cell_type": "code",
      "source": [
        "writer.add_graph(my_transformation.graph)\n",
        "writer.flush()"
      ],
      "execution_count": 0,
      "outputs": []
    },
    {
      "metadata": {
        "id": "A1PFkcexpFpu",
        "colab_type": "text"
      },
      "cell_type": "markdown",
      "source": [
        "TensorBoard allows writing scalars, images, audio, histogram. You can read more on tensorboard usage [here](https://www.tensorflow.org/get_started/graph_viz)."
      ]
    },
    {
      "metadata": {
        "id": "h7KhSA2mpFpv",
        "colab_type": "text"
      },
      "cell_type": "markdown",
      "source": [
        "# Summary\n",
        "* Tensorflow is based on computation graphs\n",
        "* A graph consists of placeholders and transformations"
      ]
    },
    {
      "metadata": {
        "id": "c6krgRoDpFpw",
        "colab_type": "text"
      },
      "cell_type": "markdown",
      "source": [
        "# Loss function: Mean Squared Error\n",
        "\n",
        "Loss function must be a part of the graph as well, so that we can do backpropagation."
      ]
    },
    {
      "metadata": {
        "id": "gWSF4bcHpFpx",
        "colab_type": "code",
        "colab": {}
      },
      "cell_type": "code",
      "source": [
        "with tf.name_scope(\"MSE\"):\n",
        "    y_true = tf.placeholder(\"float32\", shape=(None,), name=\"y_true\")\n",
        "    y_predicted = tf.placeholder(\"float32\", shape=(None,), name=\"y_predicted\")\n",
        "    # Implement MSE(y_true, y_predicted), use tf.reduce_mean(...)\n",
        "    # mse = ### YOUR CODE HERE ###\n",
        "    mse = tf.reduce_mean((y_true-y_predicted)**2)\n",
        "\n",
        "def compute_mse(vector1, vector2):\n",
        "    return mse.eval({y_true: vector1, y_predicted: vector2})"
      ],
      "execution_count": 0,
      "outputs": []
    },
    {
      "metadata": {
        "id": "9k87jqeQpFp0",
        "colab_type": "code",
        "colab": {}
      },
      "cell_type": "code",
      "source": [
        "writer.add_graph(mse.graph)\n",
        "writer.flush()"
      ],
      "execution_count": 0,
      "outputs": []
    },
    {
      "metadata": {
        "id": "zJ6rBA4tpFp4",
        "colab_type": "code",
        "colab": {}
      },
      "cell_type": "code",
      "source": [
        "# Rigorous local testing of MSE implementation\n",
        "import sklearn.metrics\n",
        "for n in [1, 5, 10, 10**3]:\n",
        "    elems = [np.arange(n), np.arange(n, 0, -1), np.zeros(n),\n",
        "             np.ones(n), np.random.random(n), np.random.randint(100, size=n)]\n",
        "    for el in elems:\n",
        "        for el_2 in elems:\n",
        "            true_mse = np.array(sklearn.metrics.mean_squared_error(el, el_2))\n",
        "            my_mse = compute_mse(el, el_2)\n",
        "            if not np.allclose(true_mse, my_mse):\n",
        "                print('mse(%s,%s)' % (el, el_2))\n",
        "                print(\"should be: %f, but your function returned %f\" % (true_mse, my_mse))\n",
        "                raise ValueError('Wrong result')"
      ],
      "execution_count": 0,
      "outputs": []
    },
    {
      "metadata": {
        "id": "mpPnQRN1pFp7",
        "colab_type": "text"
      },
      "cell_type": "markdown",
      "source": [
        "# Variables\n",
        "\n",
        "Placeholder and transformation values are not stored in the graph once the execution is finished. This isn't too comfortable if you want your model to have parameters (e.g. network weights) that are always present, but can change their value over time.\n",
        "\n",
        "Tensorflow solves this with `tf.Variable` objects.\n",
        "* You can assign variable a value at any time in your graph\n",
        "* Unlike placeholders, there's no need to explicitly pass values to variables when `s.run(...)`-ing\n",
        "* You can use variables the same way you use transformations \n",
        " "
      ]
    },
    {
      "metadata": {
        "id": "tEL6GadypFp7",
        "colab_type": "code",
        "colab": {}
      },
      "cell_type": "code",
      "source": [
        "# Creating a shared variable\n",
        "shared_vector_1 = tf.Variable(initial_value=np.ones(5),\n",
        "                              name=\"example_variable\")"
      ],
      "execution_count": 0,
      "outputs": []
    },
    {
      "metadata": {
        "id": "b7otXk99pFp_",
        "colab_type": "code",
        "colab": {
          "base_uri": "https://localhost:8080/",
          "height": 34
        },
        "outputId": "a79dae65-3ac3-4cae-deca-692134c6ca08"
      },
      "cell_type": "code",
      "source": [
        "# Initialize variable(s) with initial values\n",
        "s.run(tf.global_variables_initializer())\n",
        "\n",
        "# Evaluating the shared variable\n",
        "print(\"Initial value\", s.run(shared_vector_1))"
      ],
      "execution_count": 31,
      "outputs": [
        {
          "output_type": "stream",
          "text": [
            "Initial value [1. 1. 1. 1. 1.]\n"
          ],
          "name": "stdout"
        }
      ]
    },
    {
      "metadata": {
        "id": "o_yQu-OmpFqC",
        "colab_type": "code",
        "colab": {
          "base_uri": "https://localhost:8080/",
          "height": 34
        },
        "outputId": "a324dc7a-40bc-4089-ab1f-14d976b09010"
      },
      "cell_type": "code",
      "source": [
        "# Setting a new value\n",
        "s.run(shared_vector_1.assign(np.arange(5)))\n",
        "\n",
        "# Getting that new value\n",
        "print(\"New value\", s.run(shared_vector_1))"
      ],
      "execution_count": 32,
      "outputs": [
        {
          "output_type": "stream",
          "text": [
            "New value [0. 1. 2. 3. 4.]\n"
          ],
          "name": "stdout"
        }
      ]
    },
    {
      "metadata": {
        "id": "qeXj5rnrpFqG",
        "colab_type": "text"
      },
      "cell_type": "markdown",
      "source": [
        "# tf.gradients - why graphs matter\n",
        "* Tensorflow can compute derivatives and gradients automatically using the computation graph\n",
        "* True to its name it can manage matrix derivatives\n",
        "* Gradients are computed as a product of elementary derivatives via the chain rule:\n",
        "\n",
        "$$ {\\partial f(g(x)) \\over \\partial x} = {\\partial f(g(x)) \\over \\partial g(x)}\\cdot {\\partial g(x) \\over \\partial x} $$\n",
        "\n",
        "It can get you the derivative of any graph as long as it knows how to differentiate elementary operations"
      ]
    },
    {
      "metadata": {
        "id": "2rhuo72hpFqH",
        "colab_type": "code",
        "colab": {}
      },
      "cell_type": "code",
      "source": [
        "my_scalar = tf.placeholder('float32')\n",
        "\n",
        "scalar_squared = my_scalar**2\n",
        "\n",
        "# A derivative of scalar_squared by my_scalar\n",
        "derivative = tf.gradients(scalar_squared, [my_scalar, ])"
      ],
      "execution_count": 0,
      "outputs": []
    },
    {
      "metadata": {
        "id": "p256vQuKpFqK",
        "colab_type": "code",
        "colab": {
          "base_uri": "https://localhost:8080/",
          "height": 34
        },
        "outputId": "11d06813-09a4-481c-d6da-c303e875e858"
      },
      "cell_type": "code",
      "source": [
        "derivative"
      ],
      "execution_count": 34,
      "outputs": [
        {
          "output_type": "execute_result",
          "data": {
            "text/plain": [
              "[<tf.Tensor 'gradients/pow_1_grad/Reshape:0' shape=<unknown> dtype=float32>]"
            ]
          },
          "metadata": {
            "tags": []
          },
          "execution_count": 34
        }
      ]
    },
    {
      "metadata": {
        "id": "ZJZZJZUipFqN",
        "colab_type": "code",
        "colab": {
          "base_uri": "https://localhost:8080/",
          "height": 265
        },
        "outputId": "42369280-ee70-42cb-d59e-8523671ac357"
      },
      "cell_type": "code",
      "source": [
        "import matplotlib.pyplot as plt\n",
        "%matplotlib inline\n",
        "\n",
        "x = np.linspace(-3, 3)\n",
        "x_squared, x_squared_der = s.run([scalar_squared, derivative[0]],\n",
        "                                 {my_scalar:x})\n",
        "\n",
        "plt.plot(x, x_squared,label=\"$x^2$\")\n",
        "plt.plot(x, x_squared_der, label=r\"$\\frac{dx^2}{dx}$\")\n",
        "plt.legend();"
      ],
      "execution_count": 35,
      "outputs": [
        {
          "output_type": "display_data",
          "data": {
            "image/png": "[encoded data removed]",
            "text/plain": [
              "<matplotlib.figure.Figure at 0x7fe56e9f3898>"
            ]
          },
          "metadata": {
            "tags": []
          }
        }
      ]
    },
    {
      "metadata": {
        "id": "tXnUwK4ApFqP",
        "colab_type": "text"
      },
      "cell_type": "markdown",
      "source": [
        "# Why that rocks"
      ]
    },
    {
      "metadata": {
        "id": "IYS1boxupFqP",
        "colab_type": "code",
        "colab": {}
      },
      "cell_type": "code",
      "source": [
        "my_vector = tf.placeholder('float32', [None])\n",
        "# Compute the gradient of the next weird function over my_scalar and my_vector\n",
        "# Warning! Trying to understand the meaning of that function may result in permanent brain damage\n",
        "weird_psychotic_function = tf.reduce_mean(\n",
        "    (my_vector+my_scalar)**(1+tf.nn.moments(my_vector,[0])[1]) + \n",
        "    1./ tf.atan(my_scalar))/(my_scalar**2 + 1) + 0.01*tf.sin(\n",
        "    2*my_scalar**1.5)*(tf.reduce_sum(my_vector)* my_scalar**2\n",
        "                      )*tf.exp((my_scalar-4)**2)/(\n",
        "    1+tf.exp((my_scalar-4)**2))*(1.-(tf.exp(-(my_scalar-4)**2)\n",
        "                                    )/(1+tf.exp(-(my_scalar-4)**2)))**2\n",
        "\n",
        "der_by_scalar = tf.gradients(weird_psychotic_function, my_scalar)\n",
        "der_by_vector = tf.gradients(weird_psychotic_function, my_vector)"
      ],
      "execution_count": 0,
      "outputs": []
    },
    {
      "metadata": {
        "id": "GLgdXL1MpFqU",
        "colab_type": "code",
        "colab": {
          "base_uri": "https://localhost:8080/",
          "height": 265
        },
        "outputId": "2bc41890-1619-4a1a-992a-332596603781"
      },
      "cell_type": "code",
      "source": [
        "# Plotting the derivative\n",
        "scalar_space = np.linspace(1, 7, 100)\n",
        "\n",
        "y = [s.run(weird_psychotic_function, {my_scalar:x, my_vector:[1, 2, 3]})\n",
        "     for x in scalar_space]\n",
        "\n",
        "plt.plot(scalar_space, y, label='function')\n",
        "\n",
        "y_der_by_scalar = [s.run(der_by_scalar,\n",
        "                         {my_scalar:x, my_vector:[1, 2, 3]})\n",
        "                   for x in scalar_space]\n",
        "\n",
        "plt.plot(scalar_space, y_der_by_scalar, label='derivative')\n",
        "plt.grid()\n",
        "plt.legend();"
      ],
      "execution_count": 37,
      "outputs": [
        {
          "output_type": "display_data",
          "data": {
            "image/png": "[encoded data removed]",
            "text/plain": [
              "<matplotlib.figure.Figure at 0x7fe56e0d6438>"
            ]
          },
          "metadata": {
            "tags": []
          }
        }
      ]
    },
    {
      "metadata": {
        "id": "nZCdeWclpFqX",
        "colab_type": "text"
      },
      "cell_type": "markdown",
      "source": [
        "# Almost done - optimizers\n",
        "\n",
        "While you can perform gradient descent by hand with automatic gradients from above, tensorflow also has some optimization methods implemented for you. Recall momentum & rmsprop?"
      ]
    },
    {
      "metadata": {
        "id": "j5LUpducpFqZ",
        "colab_type": "code",
        "colab": {}
      },
      "cell_type": "code",
      "source": [
        "y_guess = tf.Variable(np.zeros(2, dtype='float32'))\n",
        "y_true = tf.range(1, 3, dtype='float32')\n",
        "\n",
        "loss = tf.reduce_mean((y_guess - y_true + 0.5*tf.random_normal([2]))**2) \n",
        "\n",
        "step = tf.train.MomentumOptimizer(0.03, 0.5).minimize(loss, var_list=y_guess)"
      ],
      "execution_count": 0,
      "outputs": []
    },
    {
      "metadata": {
        "id": "HYigWeccpFqa",
        "colab_type": "text"
      },
      "cell_type": "markdown",
      "source": [
        "Let's draw a trajectory of a gradient descent in 2D"
      ]
    },
    {
      "metadata": {
        "id": "zipYFKN9pFqc",
        "colab_type": "code",
        "colab": {
          "base_uri": "https://localhost:8080/",
          "height": 269
        },
        "outputId": "1e283e6b-0f37-4f51-82b5-bb9e62ba01a6"
      },
      "cell_type": "code",
      "source": [
        "from matplotlib import animation, rc\n",
        "import matplotlib_utils\n",
        "from IPython.display import HTML, display_html\n",
        "\n",
        "# nice figure settings\n",
        "fig, ax = plt.subplots()\n",
        "y_true_value = s.run(y_true)\n",
        "level_x = np.arange(0, 2, 0.02)\n",
        "level_y = np.arange(0, 3, 0.02)\n",
        "X, Y = np.meshgrid(level_x, level_y)\n",
        "Z = (X - y_true_value[0])**2 + (Y - y_true_value[1])**2\n",
        "ax.set_xlim(-0.02, 2)\n",
        "ax.set_ylim(-0.02, 3)\n",
        "s.run(tf.global_variables_initializer())\n",
        "ax.scatter(*s.run(y_true), c='red')\n",
        "contour = ax.contour(X, Y, Z, 10)\n",
        "ax.clabel(contour, inline=1, fontsize=10)\n",
        "line, = ax.plot([], [], lw=2)\n",
        "\n",
        "# start animation with empty trajectory\n",
        "def init():\n",
        "    line.set_data([], [])\n",
        "    return (line,)\n",
        "\n",
        "trajectory = [s.run(y_guess)]\n",
        "\n",
        "# one animation step (make one GD step)\n",
        "def animate(i):\n",
        "    s.run(step)\n",
        "    trajectory.append(s.run(y_guess))\n",
        "    line.set_data(*zip(*trajectory))\n",
        "    return (line,)\n",
        "\n",
        "anim = animation.FuncAnimation(fig, animate, init_func=init,\n",
        "                               frames=100, interval=20, blit=True)"
      ],
      "execution_count": 39,
      "outputs": [
        {
          "output_type": "display_data",
          "data": {
            "image/png": "[encoded data removed]",
            "text/plain": [
              "<matplotlib.figure.Figure at 0x7fe56b44e4e0>"
            ]
          },
          "metadata": {
            "tags": []
          }
        }
      ]
    },
    {
      "metadata": {
        "id": "lg7huDdMpFqf",
        "colab_type": "code",
        "colab": {
          "base_uri": "https://localhost:8080/",
          "height": 309
        },
        "outputId": "27e497b3-084a-4da6-c9dd-f7e4249dfc01"
      },
      "cell_type": "code",
      "source": [
        "try:\n",
        "    display_html(HTML(anim.to_html5_video()))\n",
        "except (RuntimeError, KeyError):\n",
        "    # In case the build-in renderers are unaviable, fall back to\n",
        "    # a custom one, that doesn't require external libraries\n",
        "    anim.save(None, writer=matplotlib_utils.SimpleMovieWriter(0.001))"
      ],
      "execution_count": 40,
      "outputs": [
        {
          "output_type": "display_data",
          "data": {
            "text/html": [
              "<img src=\"data:image/jpeg;base64,/9j/4AAQSkZJRgABAQEASABIAAD/2wBDAAIBAQEBAQIBAQECAgICAgQDAgICAgUEBAMEBgUGBgYFBgYGBwkIBgcJBwYGCAsICQoKCgoKBggLDAsKDAkKCgr/2wBDAQICAgICAgUDAwUKBwYHCgoKCgoKCgoKCgoKCgoKCgoKCgoKCgoKCgoKCgoKCgoKCgoKCgoKCgoKCgoKCgoKCgr/wAARCAEgAbADASIAAhEBAxEB/8QAHwAAAQUBAQEBAQEAAAAAAAAAAAECAwQFBgcICQoL/8QAtRAAAgEDAwIEAwUFBAQAAAF9AQIDAAQRBRIhMUEGE1FhByJxFDKBkaEII0KxwRVS0fAkM2JyggkKFhcYGRolJicoKSo0NTY3ODk6Q0RFRkdISUpTVFVWV1hZWmNkZWZnaGlqc3R1dnd4eXqDhIWGh4iJipKTlJWWl5iZmqKjpKWmp6ipqrKztLW2t7i5usLDxMXGx8jJytLT1NXW19jZ2uHi4%2BTl5ufo6erx8vP09fb3%2BPn6/8QAHwEAAwEBAQEBAQEBAQAAAAAAAAECAwQFBgcICQoL/8QAtREAAgECBAQDBAcFBAQAAQJ3AAECAxEEBSExBhJBUQdhcRMiMoEIFEKRobHBCSMzUvAVYnLRChYkNOEl8RcYGRomJygpKjU2Nzg5OkNERUZHSElKU1RVVldYWVpjZGVmZ2hpanN0dXZ3eHl6goOEhYaHiImKkpOUlZaXmJmaoqOkpaanqKmqsrO0tba3uLm6wsPExcbHyMnK0tPU1dbX2Nna4uPk5ebn6Onq8vP09fb3%2BPn6/9oADAMBAAIRAxEAPwD9/KKKKACiiigAooooAKKKKACiiigAooooAKKKKACiiigAooooAKKKKACiiigAooooAKKKKACiiigAooooAKKKKACiiigAooooAKKKKACiiigAooooAKKKKACiiigAooooAKKKKACiiigAooooAKKKKACiiigAornLb4wfCS8%2BIk/wgs/ij4cl8W20Hn3PhePW7dtRii2q29rYP5qrtdGyVxhlPcU/Q/ix8LPE3jXU/ht4b%2BJXh/UPEeioH1nQLHWYJb2wU4wZoFcyRA7l5YD7w9aAOgooooAKKKKACiiigAooooAKKKKACiiigAooooAKKKKACiiigAooooAKKKKACiiigAooooAKKKKACiiigAooooAKKKKACiiigAooooAKKKKACiiigAooooAKKKKACiiigAooooAKKKKAPlvx7dXd3%2B2N4I1jR/hX43s7bwr4z1KXxBpo8CyNopjn0a8iXxJBfWltm5vJHuLeyMLTylY5pi1ujRGdM39nnwR46svjj4P8LX3w81/T7/wV4m%2BIl/4r1%2B%2B0OeCyu7bVNXkntBDdugiuzciW3uSkTuY/sxWURuqqfraigCrrWpHSNMk1EQ%2BZ5e35N2M5YDr%2BNY154/8Askoi/sndmJHz5%2BPvIGx933xV/wAZ/wDItXP/AAD/ANDWuN1j/j7T/r1g/wDRSVvShGS1JbaN7/hZP/UF/wDJn/7Gmy/E6OCMyy6QFVRkk3PT/wAdrkZrySG9SB4cRuMCTP8AF6YqheRS27zRtJCzTPhN7EyFWPAHPQHt6CrdOmugJs7OT4uF3CWOgiTClnDXJUgAjIAKdee9WoficlxCs8WjZV1BU/aOx/4DXEx2F1PdtduDA4UbWGGDNggn6EbfyFXbaBbWBbdCSFGMnvQqUeqBs6OL4j629x9om8NRR2Zd40Y3mXdl2nPC8DDDrVj/AIWT/wBQX/yZ/wDsawZv%2BQLb/wDX1N/6DFVWmqUBXZ1H/Cyf%2BoL/AOTP/wBjR/wsn/qC/wDkz/8AY1y9Kqs5wqkn2FP2VPsF2dP/AMLJ/wCoL/5M/wD2NSp4/wB9lJef2T/q5UTb5/XcGOfu/wCz%2BtcsLZxzIyp/vGrEQRdKmwd6faIt3Y52yYx7df0qHCl0Q7s3P%2BFk/wDUF/8AJn/7GlHxHJ6aIT9Lj/7Gua85F/1cCj3PNIbmcjHmED0HFP2cX0/ELnUD4gTkZ/sEge9zj/2Wl/4WCR9/S0H/AG9f4LXKEk9ST9aSj2KDmOui8ei4cxxaaCwRm/13ZVLH%2BH0FQH4iyBwRp6svddxBP4//AFqwtH/4%2B3/69Z//AEU9VaFRhcOZnUf8LJ/6gv8A5M//AGNH/Cyf%2BoL/AOTP/wBjXL0VXsqfYV2dR/wsn/qC/wDkz/8AY1LY%2BP8A7bew2f8AZO3zZVTd5%2BcZOM/drkqtaH/yGrP/AK%2Bo/wD0IUnShbYLs3v%2BFk/9QX/yZ/8AsaP%2BFk/9QX/yZ/8Asa5ein7Kn2C7Oo/4WT/1Bf8AyZ/%2Bxo/4WT/1Bf8AyZ/%2Bxrl6KPZU%2BwXZ08fxEf8A5a2Kn6Ej/GrFx48FtO9tJpqh43KuDOeoOD/DXIVa1z/kNXn/AF9Sf%2BhGp9jC4%2BZnQP8AEXYcf2Qrf7tz/wDY0xviNJINsWkqrHoWmyPywK5ilRyhyAD9RT9lGwrs6hPiNuHzaP7f8fH/ANjSn4iMBn%2Bxfw%2B0/wD2NcusgAwV75HNOWRd27PJx%2BFS6aT2Hc6m4%2BIIgjiYaUGMkZZl%2B0fdO5hj7vtn8ai/4WT/ANQX/wAmf/sa5%2B9V0t7UNjBgJUjuPMf%2BoNQrDI670Qke1NU6drsLs6b/AIWT/wBQX/yZ/wDsaP8AhZP/AFBf/Jn/AOxrlyCOCKKr2VPsK7Oo/wCFk/8AUF/8mf8A7Gq9p8SNbDM%2Bo%2BGYhC0jiGeK84OMHaQVznDDnpXP1am/5Atv/wBfU3/oMVJ0oaBdm8fiTgZ/sb/yZ/8Asaq23xaDWJvrzQ1iUE8i6JGM8fwVzl3btdQNCs7xkj7yY/rVa6t5UtY7d4GkVCDm3O0gjG04J9fr2pOlBdB3Z2kPxPiuEEsGlK6nut1n/wBlp3/Cyf8AqC/%2BTP8A9jXn8l1NGhmurgrLHIF2o2OgDOxA68A%2B3NXrO7upJzDdRopMQcKucrnsfehQpvoGp6D4d8W/29etZ/2f5W2Ivu83dnBAx0HrWzXG/Dz/AJDUv/Xq3/oS12VY1YqM7Ia1QUUUVmMKKKKACiiigAooooAKKKKAMvxn/wAi1c/8A/8AQ1rg7zV7O/1VrW0Lv5NtCskgQ7QwjUFc%2Bua7zxn/AMi1c/8AAP8A0Na43VwBdpgY/wBFg/8ARSV00diWZ97afbIhEZmTDA7kAzx6Z6U%2BKFIlCrk4/iY5P5mn0VtZXJCjr0op%2BM4eNeR1FDdgLMij%2BxoFdsYupf1WP/Cq7IANpA%2B7kEetTSkLpkTBchriTk/7qcfrVYuxJwcZ7ZqEpMegA4IJGcHoac1xKw2hto9FGKZRVtJ7iDr1q1D/AMgW4/6%2Bof8A0GWqtWof%2BQLcf9fUP/oMtDAq0UU%2BC2ubp/LtoHkb%2B6ikn9KYDKK0V8M6ig338kFqp73EwB/IZNH2Hw7bf8fOsyzEdVtoMfq1TzLoOxBo/wDx9v8A9es//op6q1s6bd6BHcstppErkW8p3z3HUCNiRhR3HH41X/4SHy/%2BPXRrGP0Pkbj%2BbE0ru%2BwGcAScAVKljey/6uzlb/djJq4fFWu4xHeCMekcSr/IVE/iDXJPvatcf8BlI/lT94NBq6JrL/d0m5P/AGwb/CrWj6HrMWrWs0ulzqq3KFmaIgABhzVJtV1N/v6jOfrM3%2BNWNFvbx9ZtFe7lINzGCDIefmFJ81g0GHQNcHXSLn/vyaY2j6un39LuR9YG/wAKjF/fDpey/wDfw09dX1ZPuancD6Tt/jT98NCN7W6j/wBZbSL/ALyEVHV1PEmvR/d1ac/7z5/nUn/CVaw3E8sUw9JbdD/Sj3g0M6rWuf8AIavP%2BvqT/wBCNT/27bS8XegWT%2BpjQof0NWNVm8Nyarcpd2d1E4uHDSQyhgx3HnBH6Uru%2BwGNRWj/AGVo1x/x5a%2Bik9Euoin6jIps3hrWI082K2E6f37dw4/TmnzRCzKFFK6PGxSRCpHUEYIpKoRa1D/j0sf%2BvU/%2BjZKqglTkHB9qtah/x6WP/Xqf/RslVaS2AkFw5GJQHH%2B0KMW8n3WKH0PIqOilyrpoO494ZEG4jI/vDkVPN/yBbf8A6%2Bpv/QYqrpI8ZyjkfSrUhEmlwvM%2B1TcShQq9DtTJ/HI/Kk3JbhoU6KfJC8Y3cFT0YdKZVJp7CI57S3uFdXjGZF2swHOPrSW1oltubezu5%2Bd3PJ9OlS0UWVwN74dnOtSnH/Lq3/oS12Vcb8PP%2BQ1L/wBerf8AoS12Vctb4y47BRRRWQwooooAKKKKACiiigDxj9oD4v8Axy%2BFfxN8KweG28IXGg%2BIPE2jaLY%2BG5bO6n1vWHuLorqNxDIsscVrHZWe68OYp/MS3lDGH5ScbRf2lviHJ%2B1/4i%2BDvjbxVovh/wAOWPiu30fwvZXnw41VpdeEmhWl%2BSmtfalsUm8%2Ba5VYPKLslowALEsOs8YfsvS%2BJvju37QWkfHvxroOrHQoNIjsdNttGntYLRJWmdIvtunTyw%2Bc7KZikimTyYc/6qPbPrH7MmneJPiVp3j/AMVfF7xpqllpms22sW3hO9vbRtMGpQWv2eO6AFsJ0wP3vkJMtv52ZPK3EkgHd%2BLoZrjw9cQ28TO7bNqIuSfnXsK5TVdH1eS5Vo9KuWAtoRkQMeREoI6etdT4z/5Fq5/4B/6GtcbrH/H2n/XrB/6KSuijexLD%2Bw9a/wCgPdf%2BA7f4U2TSdThx5%2BnzxhjgGSIqCfxFQxxtIcDgDkk9qdJKAvlQ8L3Pc1q3K9kIsSaDrCnCaVdNxyRbt/hSf2LrgG0aTdY9Ps7f4VUop2dhGnLo%2BrnSIIhpVzuFzKSvkNkArHg9PY/lVb%2Bw9a/6A91/4Dt/hRN/yBbf/r6m/wDQYqq0K4Fr%2Bw9a/wCgPdf%2BA7f4Uf2HrX/QHuv/AAHb/CqtXNP0Wa8iN5PKtvbKfmnl6fQD%2BI/ShtrcBv8AYetf9Ae6/wDAdv8ACtLTfC%2BqXGlTJcwtbq08b5eMliFDg4Uc5%2BYVWOsWWmDytBtcP3u5wC5/3R0X%2BdQmee50m5muJmdzdQ5Z2yT8stS%2BdrsPQv8A9mwafxa%2BGr28kH/LS5gZU/BQOfxNRzz%2BMJk8mLT7mCPtFbWrIP0FY9FPl7hcttouuOxZtJuyT1Jgb/Ck/sPWv%2BgPdf8AgO3%2BFVaKrURp6Vo%2Brx3LNJpVyoNtMMtAw5MTADp61W/sPWv%2BgPdf%2BA7f4UaP/wAfb/8AXrP/AOinqrS1uBa/sPWv%2BgPdf%2BA7f4Uf2HrX/QHuv/Adv8Kq0U9QLX9h61/0B7r/AMB2/wAKs6Po%2Brxavayy6Vcqq3KFmaBgANw5PFZlWtD/AOQ1Z/8AX1H/AOhCk72YB/Yetf8AQHuv/Adv8KP7D1r/AKA91/4Dt/hVWinqBa/sPWv%2BgPdf%2BA7f4Uf2HrX/AEB7r/wHb/CqtFGoFr%2Bw9a/6A91/4Dt/hVnWNH1eXV7qWLSrlla5cqywMQRuPPSsyrWuf8hq8/6%2BpP8A0I0tbgH9h61/0B7r/wAB2/wp8OleIbd/Mt9NvUb%2B8kLg/oKpUU9QNtLnxQ6iLUdDlu0Ha4s2JH0YDNL/AGBbah/q9Mv7GQ/wvbtJH%2BeMisOip5X00Hc2NZ8OazbxWsK2MkvlwFWaFCwz5jnsPQiqP9h61/0B7r/wHb/Cp21K%2B02CxksrloybU7gDw372TqOhp4n0bWfluo1srg/8tox%2B6Y%2B6/wAP1FJOSQaFX%2Bw9a/6A91/4Dt/hR/Yetf8AQHuv/Adv8KbqGmXmmSiO7iwGGUdTlXHqD3qvVq7EWv7D1r/oD3X/AIDt/hVmXR9XOkQRDSrncLmUlfIbIBWPB6ex/KsyrU3/ACBbf/r6m/8AQYqTuA6PSNdiOU0m69x9nbB/SibRtREZmbTLiLby2%2BFgPzIqnR06UnF3uh3LKaPq8qCSPSrllIyGWBiD%2BlL/AGHrX/QHuv8AwHb/AAqIMs42SEBv4W9fY1GysjFWGCOopptuzA6PwJp2oWeryS3dhNEptiA0kRUZ3LxyK6yuN%2BHn/Ial/wCvVv8A0Ja7Kuat8ZS2CiiishhRRRQAUUUUAFFFFABRRRQBl%2BM/%2BRauf%2BAf%2BhrXHaqrPexoo5NrBj/v0ldj4z/5Fq5/4B/6Gtcjqn7uUSd2tYFX/v0ma6KTtEl7lWV1UeTGeB1PqajoordKyJCiiimBam/5Atv/ANfU3/oMVVatTf8AIFt/%2Bvqb/wBBiqTRbKCVpNRv1zbWq7nX%2B%2B38Kfiam9lcB9lp9rY2y6trKkq3NvbA4MvufRf51W1HU7vU5RJcuAqjEcajCoPQDtTdQv7jUrpru5b5m6AdFHYD2qGhLqxhVqH/AJAtx/19Q/8AoMtVatQ/8gW4/wCvqH/0GWmxFWiiimAUUUUAWtH/AOPt/wDr1n/9FPVWrWj/APH2/wD16z/%2BinqrS6gFFFFMAq1of/Ias/8Ar6j/APQhVWuA%2BKn7TnwG%2BEk8uheOfjfofh/VTEfKimvA9xbsR8shiQM4APIyvOO9aU6NXES5KcW35Jv8kyKlSFKPNNpLzdvzO/or41/ZP8Cftm/GP4B%2BGvi34Y/bZ1fSjrS3Iv7HXvDNtqnliO4lhDxSTENz5YbB9euBz6Q/7CN/46Yf8NEftOePPG1v/wAtNIjvhpmny%2Bu%2BC36/gwxXpV8uwuFrSp1cQvdbTSjJu60ejSX/AJMcdPGV69NShRequruKWv3v8D1PxR%2B0D8CPBF01j4x%2BNPhTSrhPvW%2BoeIbaGQf8BZwf0rlNQ/bu/Y%2B0yTyrn9oTw4xz1t7szD80BFWfCn7E37JPgy1W00b9nrwrIqfdfUtKS9k/77uN7frWh490L9nP4F/D7VfiJ4l%2BHnhnS9I0i0ae7e30K3QkDgIqhRudmIVV7swHeohHK5TUIqpJvRfArv095lSljlFyk4RS/wAT/wAi78Kv2ivgf8b7q6sfhR8TNL1yexjWS6t7OY%2BZGhOAxVgDtzxkDGcetd9rn/IavP8Ar6k/9CNfG3h74ZfH/wDaH%2BL/AIO/aH8AfCHQ/g/pWjlZIdQuJ/M1PWdPkIYwy20AWMRspPyS4ZS2Q1fZOuf8hq8/6%2BpP/QjWeY4WhhasVTle61V03F3tZuPuvvpts9SsJXq14NzVtdHZpNd0nr9/qirRRRXAdYUUUUAWtQ/49LH/AK9T/wCjZKq1a1D/AI9LH/r1P/o2SqtJbAXdO1hraI2N7F59ox%2BaFjyvup7Gk1TShZql5Zzeday/6qXHIP8Adb0IqnV3RtRitXazvgWtLj5Zk/u%2BjD3FJq2qGUqtTf8AIFt/%2Bvqb/wBBipmp2EmmXr2cjBtp%2BVx0ZTyCPwp83/IFt/8Ar6m/9Bip3vYRVooopgFSj/SE2n76j5T6j0qKlVijBlPIPFKSuBu/Dz/kNS/9erf%2BhLXZVx3gBlfXZmVcA2zcf8CWuxrlq/GWtgooorIYUUUUAFFFFABRRRQBz2u/Fz4UeF/G2mfDTxN8TvD2neI9aTfo/h%2B/1qCG9v1ywzDA7iSUfK3Kg/dPoaWX4sfCyD4hx/CKb4leH08WTWn2qLww2swDUXgwT5ott/mlMKx3bcfKeeK8F/aS1fw/4k/aP0r4Yar8LfE%2BnaJaXnh/xJ4q8Z6H8MdX1J9eutPv2u9L0yK7srOWNEguIVnnkkf5EkWJF/fyvFz954S8bah%2B0TeeG7T4c%2BI/t%2Bq/tAaX42sfE8nh26Sxj0OPw3a20kr3bRiKKX9zPYfZmYT5kB8vy2L0AfU3jP8A5Fq5/wCAf%2BhrXFX0zzPHv/hhRfyUD%2Bldv4uMK%2BHrg3EbMnyblR9pPzr3IP8AKuNkk0sMPPs7hm2jlLlVGMehQ1vS6fMllOirXnaL/wBA%2B6/8DF/%2BN0edov8A0D7r/wADF/8AjddF/Ikq0Va87Rf%2Bgfdf%2BBi//G6PO0X/AKB91/4GL/8AG6L%2BQBN/yBbf/r6m/wDQYqsam32PRLLT04MoNxL75OF/QUssukf2RATY3O37TLgfalyDtjzzs%2BlTa7JpRWykks7hg1jHsK3KjAGRg/Icn3/SovqhmNRVrztF/wCgfdf%2BBi//ABujztF/6B91/wCBi/8Axurv5CKtWof%2BQLcf9fUP/oMtHnaL/wBA%2B6/8DF/%2BN1Zil0j%2ByJyLG52/aYsj7UuSdsmOdn1pNgZlFWvO0X/oH3X/AIGL/wDG6PO0X/oH3X/gYv8A8bp38gKtFWvO0X/oH3X/AIGL/wDG6PO0X/oH3X/gYv8A8bov5AGj/wDH2/8A16z/APop6yPEPiPw94S0efxF4q12z02wtU33N7f3KwxRL6s7kAD6mvOf2rLT9rg2Fj4j/Y/1/R7WXTdP1GXXNH1yBZ31FRb7olgPknEnyyKFJUFnTLYBr5R%2BH1r4z8d/YvHH7YH7KXxx%2BJPiC1dpptN1FY7PRLP5jsa3tNiCRiuNysMc42nGT7GCyqOKo%2B3lVVusU1z9eknFK/e7X5HnYnHuhV9moO/dp8v3pSb9LJn0NqH/AAUV%2BB%2Bo3sukfCHw14x%2BId5E5jaLwb4YmnjDj1kkCLt/2gSMc81XPxP/AG/Pit%2B7%2BHnwC8OfD%2Bxk4XU/HWsm7uSv95be2GUb/ZfIpnwh/wCCkv7IGs6/b/Ca/wDDmufD%2B8hdbWz03xBBBa2ytnAjV4Q8cQB4%2BfYM8V9Iedov/QPuv/Axf/jdVieXLpqLwvK3s6jcr%2BaScYP8RUW8ZG6r3XVQSX4u8vyPmfxD%2Bx7%2B03470C7bxv8At5eLE1aW3Y2a%2BGrCPSrOCXHyh1gYPKgPB%2BZSRXTfsa/sQ/Cr9mjwbpuk%2BItD0XXPEMl6LjWfEV5p0bMzlh8kbSAskSqAAMjJ3MQCxA9y87Rf%2Bgfdf%2BBi/wDxuvgv/gu78H/2k/i/8LvBlt%2Bz94T8Ra1odlqV23ijRNCD3M0sjJELaVoYlDSIoE44VtpcdM14mecSZlgMmqzhBzSs%2BSCUW%2Bn2VeyvdrXa59v4e8EZXxlxrg8pxOLhhY1m4utVd4w91y%2B1OMeaXKoxvKCu0m11%2B6IIoIYUito0SNVARUACgdsAdqdXy5/wRu%2BHfx2%2BFf7HUPhr9pTR9atL5tfuZtA0zVbgpc2WnFIgsbo4ZowZRM4Q4IDjjmvq3ztF/wCgfdf%2BBi//ABuuTLsZPHYGniJ03BzSfK91fo9vyW60I4uyLD8McT4zKaGJhiYUKkoKrT%2BCoo296NnJdbO0pK6dpNWbq18f/tk/Gfwp4k/ae8FfAz4y6bceG/AWhaymravrniC3mWw16dYt0NtGUQo8as3zNIwTIcHG0bvsrztF/wCgfdf%2BBi//ABus/wAV%2BGfAPjnw7eeEvF3hZtQ02/gaG7s7q4RkkRhgggx/r1HUV7WX4ulhMR7ScG9GtHZq6tzLpdJu19PnY%2BUxdCeIo8kZW1T1V07a2fk9L2Fsb2y1Gyh1DTbqKe3niWSCeBwySIwyrKRwQQQQRwRV/XP%2BQ1ef9fUn/oRrnfhN8OPBHwb%2BHWlfDDwwus3GnaNbmCyk1LVVmmEe4sFLeUMhQdoGBhVA7V1esS6QNXuhLY3Jb7S%2B4rdKATuPbYcVx1ORVWoXa1s7Wur6aXOiHM4Jy0ZmUVa87Rf%2Bgfdf%2BBi//G6PO0X/AKB91/4GL/8AG6m/kMq0Va87Rf8AoH3X/gYv/wAbo87Rf%2Bgfdf8AgYv/AMbov5AGof8AHpY/9ep/9GyVVrTvpdIFtZ77G5INsdoF0owPNfr8nPOaredov/QPuv8AwMX/AON0k9AKtFWvO0X/AKB91/4GL/8AG6PO0X/oH3X/AIGL/wDG6d/ICxqB%2B26DaX7cvC7W7n1A%2BZf0JFV5v%2BQLb/8AX1N/6DFV8SaWvhksbK48t74YU3K5yE652dOemPxqGWXSP7IgJsbnb9plwPtS5B2x552fSoT/ADGZlFWvO0X/AKB91/4GL/8AG6PO0X/oH3X/AIGL/wDG6u/kIq0Va87Rf%2Bgfdf8AgYv/AMbo87Rf%2Bgfdf%2BBi/wDxui/kBqfDz/kNS/8AXq3/AKEtdlXJ%2BBJNPbV5BaWsyN9mOTJOGGNy9gorrK5a3xlrYKKKKyGFFFFABRRRQAUUUUAFFFFAGX4z/wCRauf%2BAf8Aoa1x2qQJC0Wz/nhHu%2BpRW/rXY%2BM/%2BRauf%2BAf%2BhrXI6iwN2sLHAa1gwfQ%2BUmK3p6RuS9yjRSspVirDBHWkrpJCiiigC1N/wAgW3/6%2Bpv/AEGKrP8AyFPDqoijzdPYkgdWiY5z%2BB/Q1Wm/5Atv/wBfU3/oMVM03UJtMu1u4QDjhkbo6nqD7VLTa0GQUVf1bTYUjGqaYS1pKePWJv7jf09aoU000IKtQ/8AIFuP%2BvqH/wBBlqrVqH/kC3H/AF9Q/wDoMtDAq0UUUwCiiigC1o//AB9v/wBes/8A6Kevzj/aM8A%2BK/gv8edY8T/tleMviFrfwt8SeIJH08eG/EP%2BiXHmF5IrSe3aVWjWNA64TGVX5CMYP0/4x/ab%2BKnj/wCKd/8AAz9jbw1o%2Bs6to8Eg8VeLtelk/snRSUYGD93808%2BA3yqflIwQcPs5T4S/8E%2B7bXviN4m%2BNP7Yun%2BHPFniHWr1GsLHTpLqTT7KJUwzBJyCWc/wEMqBflwDgfSZVJZS51cTJJSivdVvaO70a09zvd9OmqZ42OTx/LToptpvV/B5p/zdrLr13PKtR8L/APBKP9qKXwv8L/h34vtvBt%2BNSXbFY6HJZ3V%2BCjKts91cRFCzMV25dixG0AkjH2l8J/hp4f8Ag58N9G%2BF3hW4vJdO0OxS1tZdQuPNmdV7u2AMkk8ABR0UAAAQv8E/g1KumJL8JPDLDRHR9GDaDbn7AyY2tDlP3RG1cFcY2j0rp64MwzH61TjThKfIru05KWr6ppJ7d/lodeEwnsJynJR5nZXimtPS9t%2B3zCrWh/8AIas/%2BvqP/wBCFVataH/yGrP/AK%2Bo/wD0IV5L2Z3FWiiimAUUUUAFWtc/5DV5/wBfUn/oRqrVrXP%2BQ1ef9fUn/oRpdQKtFFFMAooooAtah/x6WP8A16n/ANGyVVq1qH/HpY/9ep/9GyVVpLYApVVnYIikknAAHU0latnCugW66teKPtLr/ocDD7v/AE0YfyobsAzXytnHb6IjAm2QmYg9ZG5I/DgVXm/5Atv/ANfU3/oMVVnd5HMkjEsxyxJ5JqzN/wAgW3/6%2Bpv/AEGKlayQyrRRRVCCiinwx%2BY%2BDwo5Y%2BgpNpK4G38PP%2BQ1L/16t/6EtdlXHfD9g%2BuzMFwDbNgD/eWuxrlq/GWtgooorIYUUUUAFFFFABRRRQAUV5Z47%2BLHxV8L/tWeA/hVaaToH/CHeKdH1R7m8lad9Sa9to1kAQArFFEqsuSfMaQyEYiEeZOS0X9pb4hyftf%2BIvg7428VaL4f8OWPiu30fwvZXnw41VpdeEmhWl%2BSmtfalsUm8%2Ba5VYPKLslowALEsAD2zxn/AMi1c/8AAP8A0Na43WP%2BPtP%2BvWD/ANFJXaeLoZrjw9cQ28TO7bNqIuSfnXsK5TVdH1eS5Vo9KuWAtoRkQMeREoI6etdFFpIllH/j5XH/AC0A/wC%2Bh/jUXTrVoaJrYORpF1/4Dt/hUjaPqsqFpdKuUYDljAwB%2BvHFaXUfQW5RoqxFpOqTr5kGm3Drn7yQsR%2BYFO/sPWv%2BgPdf%2BA7f4VfNHuIJv%2BQLb/8AX1N/6DFVWtOXR9XOkQRDSrncLmUlfIbIBWPB6ex/Kq39h61/0B7r/wAB2/wpJruAmm6pcaZKWjAeNxiWFxlXHoRVqbSLbUozeeH2LYGZLNj%2B8T6f3h%2BtVv7D1r/oD3X/AIDt/hTotI1%2BGQSw6XeIynKssDAj9KTte6YyoQVJVgQQeQasw/8AIFuP%2BvqH/wBBlrTEd7qQEeveHbsvjAu4LYh/%2BBDGG/nRc%2BFdRttImFojzq88bqBEyvgK4OVPP8Q9aXOtmFjCoq1/Yetf9Ae6/wDAdv8ACj%2Bw9a/6A91/4Dt/hV3XcRVryH9sj443/wAJ/hqPCngSOW78deMmbSfBemWvMz3LgK0/%2BykQbeWPAO0HAOa9o/sPWv8AoD3X/gO3%2BFfOX/BRnSL3wN4W8C/H230y/sNS8H%2BO7IrrsdlIyWFjOSl15%2B1SfIZVVWHclQPvYPoZXClWzCnCet3ou7s2k/JtJO2tttzlx0508JOUXbTfsrpNrzs3bzPVf2WvgloH7PXwo0j4X6Fbw77LSpTqd3FHg3l40DGadj1JZs4zyFCjoBXXVN4Iu7bxXpdv4q8MTLqGmX%2BnyS2WoWf7yGdGibayOuQwORjFSf2HrX/QHuv/AAHb/CuOtVnVrynUfvN3d%2B%2BtzenCEKajDZLT0KtFWv7D1r/oD3X/AIDt/hR/Yetf9Ae6/wDAdv8ACs7ruWVataH/AMhqz/6%2Bo/8A0IUf2HrX/QHuv/Adv8Ks6Po%2Brxavayy6Vcqq3KFmaBgANw5PFJtWeoGZRVr%2Bw9a/6A91/wCA7f4Uf2HrX/QHuv8AwHb/AAp3XcCrRVr%2Bw9a/6A91/wCA7f4Uf2HrX/QHuv8AwHb/AAouu4FWrWuf8hq8/wCvqT/0I0f2HrX/AEB7r/wHb/CrOsaPq8ur3UsWlXLK1y5VlgYgjceelK6vuBmUVa/sPWv%2BgPdf%2BA7f4Uf2HrX/AEB7r/wHb/CnddwKtFWv7D1r/oD3X/gO3%2BFA0LWyQBpF1z6wN/hRddwDUP8Aj0sf%2BvU/%2BjZKgt7a4u5hb2sLSO3RVGTW9J4WmW0tZNTSceVAVaC2hMjk73bGRwOGHWoLhtcSFrPSPD9zaQtwxSBi7/7zY/QVCmug7ESxaf4e/eXJS5vR92EHMcR9WP8AEfas66uri9na5upS8jnLMxqb%2Bw9a/wCgPdf%2BA7f4Uf2HrX/QHuv/AAHb/CqXKtbgVatTf8gW3/6%2Bpv8A0GKj%2Bw9a/wCgPdf%2BA7f4VZl0fVzpEEQ0q53C5lJXyGyAVjwensfyobXcRmUVa/sPWv8AoD3X/gO3%2BFNOk6msqwy2EyM/3Q8RGfpnrT5orqFiBEaRgiDJNPkZUXyYzkfxN6mrT6PrCKYodIusH7zfZ25/So/7D1r/AKA91/4Dt/hUpqTux7Gp8PP%2BQ1L/ANerf%2BhLXZVyfgTTtQs9Xklu7CaJTbEBpIiozuXjkV1lc9bWZS2CiiishhRRRQAUUUUAFFFFAHmPxR/Zsu/ib8XvDfxig%2BPnjXw9deFYZ49L0rQ4NHazPnqFnZ/tenzysXRVU/vAAFyoU5JXWP2ZNO8SfErTvH/ir4veNNUstM1m21i28J3t7aNpg1KC1%2Bzx3QAthOmB%2B98hJlt/OzJ5W4kn02igDL8Z/wDItXP/AAD/ANDWuN1j/j7T/r1g/wDRSV2XjP8A5Fq5/wCAf%2BhrXA3%2Bt2c%2Bq/YZVeCVYIVVJ127wI1G5fUHtXTRaSJY6iiitySRZgV2TDcOx7ihoDjfEd6%2B3UVHSqzIdysQfUVPLbYZZm/5Atv/ANfU3/oMVVauSFX0uGSdjhriQAKOhCx8/jkflVc27MMxMHHoOv5UlK24WI6KCCDgjFFWIKuWsskOkTywyMjC6hwynBHyy1Tq1D/yBbj/AK%2Bof/QZaTAkl8QXt1bNb38cVxlcLLLH86e4Yc/nVfTokmvEjdcjk7fXAJxUNKrMrBlYgjoQaLJLQLmhIttJc2zahGiFomeUY2g/e2g7foPfmoNQ8OaVrNvLpGsWMclteqbd7aVBLFKrLhtwbgoQcEHPBNRx311HIZPN3EghvMG4EHrnNeOftJfGLxrqHxD8M/stfDa5S01nxrZ30%2Bqa8hPmaHpqR7XnRBjMjEssZyAsignI4OuGw9XEVVCDtu2%2ByWrfyXz2S1ZnWqwpU%2BaSv0t3b0S%2BZi/stfDcfCX9pTxt4I%2BCHiG3ufh5Fpq3Wr%2BHpPtGNA1Oe1MqC0kZDFJFLEyu8avlC6cAY3e71L4M0Xw54T099D8L6WLWF7aVpQAPmIgYZz36Dk9AoA4Aos3s0nDX0LvHg5WNsH860xeJeKruo97JX6uytd%2Bb/wAr3ernD0VQp8q7t%2BSv0Xkv6tsRUVo48KSdHv4j7hGH9KGsfDrcx67KvPR7Qn%2BRrl5vI3sZ1WtD/wCQ1Z/9fUf/AKEKn/srRm%2B54li/4FbOP6VY0nSdPj1W2kj1%2B3crcIQgRgWO4cdKTkrMLGNRWj/Y%2BmDr4kt/wjf/AAo/svQ1%2B/4lT/gNq5p8yCxnUVo/Y/DUf39Znk/652uP5mjd4Uj5EV/KfRmRR%2BmaObyCxnVa1z/kNXn/AF9Sf%2BhGp/7V0WL/AI9vDiE%2Bs9wzfoMCrGreIr%2B11W5hs4reHbcON8duu44Y8knPNK8r7AZ9ro2q3v8Ax66fK4P8QQ4/PpVn/hHTb86rqltbY6p5m9x/wFc1VutX1S9yLrUJnB/haQ4/LpVenaTDQ0vO8NWP%2Bqtp71x/FK3lp%2BQ5P51HceItSljNvbsltEf%2BWVsuwfjjk1Roo5V1C5a1Dm1sc/8APqf/AEbJVWrWof8AHpY/9ep/9GyVVprYQUUoViMhT9ad5eMljkD0obSCwyrUoJ0a3AGT9qm4H%2B7FVZl2nGc%2B9WnZo9JhkjcrunkUjPHCpz9Tn9BSbelhkAiSPmc4PZB1/wDrUkkzONoAVR0UUzr1ooUdbsLhRRSMyqCzEADqTVCN/wCHn/Ial/69W/8AQlrsq4v4byxT6tJLDIrq1o21lOQfmWu0rkrfGWtgooorIYUUUUAFFFFABRRRQAUVl33jfwXpfiuw8B6n4v0u31zVbea40vRp9QjS7vIodvnSRQlt8ipvTcyghdy5xkVTl%2BLHwsg%2BIcfwim%2BJXh9PFk1p9qi8MNrMA1F4ME%2BaLbf5pTCsd23HynnigC54z/5Fq5/4B/6GtcP4ksLPUJVgvLdZF%2BywYz1H7pOh7V3HjP8A5Fq5/wCAf%2BhrXG6x/wAfaf8AXrB/6KSumirxJe5hi11nSubGb7XCP%2BWMzYcD2bv%2BNTWeu2N1J9ndmgm7wzja34ev4VcqG8sLPUI/KvLZZF7bhyPoe1a2a2ETUVm/2VqdhzpGpFkHS3uvmX6BuopRr0lp8us6bLb%2BsqjfH%2BY6Uc1twsbc3/IFt/8Ar6m/9BiqqCQcg4qWO9s73Q7drS6jkAuZSdjg4%2BWOoqa1QiQXDEYlUOP9rr%2BdGLd%2BjMh9xkVHRS5V00HckNtIeUw4/wBk1PGrLotwGBB%2B1Q9f92WqgJHINW4XY6VNOx3MtxEqlueCshP8hSfMg0KlFVvEninw14R0K68UeLdStdO06xhM15fXU4iihQdWZm4Ar56tfjj%2B0t%2B1ddXB/ZX0uw8H%2BCBKYYviH4qsnlub/GQ0llaEAFQejS8Hn7rAqOzDYStiU56Rit5N2ivK%2Bt32STfl1OetiKdFqO8nslq/%2BAvNtI7j9pH9p/S/gqtn4G8H6HJ4m8f6%2BDH4a8JWRzJKxyPPmI/1UC4JLHGQpxwGZa37NH7N2r/DbUdQ%2BMXxh8RDxD8SPEsIXW9XyfJs4chhZWq/wQoQvYbioPAAA1PgD%2Byr4Q%2BB97qPjC78SXninxjrjbtb8X66wa7uBxiJB0hiGBhF9BknauPTzaz9kz9Dmtq2Lw9Ci8Phno/ik9HLySe0fLeT1l0Szp0atWoqtbdbR3S833l57LZdW5tH/wCPt/8Ar1n/APRT1Vq3pSPHdOZEK/6NOOR/0yaqleemmzrCiiimAVa0P/kNWf8A19R/%2BhCqtWtD/wCQ1Z/9fUf/AKEKT2YFWiiimAUUUUAFWtc/5DV5/wBfUn/oRqqAT0FXNYjkl1i7eNCwNzIQQOCNxqW0mBToqT7NKOWAX/eYCjyYx9%2B4X8MmjmiOzI6Kk/0VT/G36Ueeq/6uBR7nmjmfRBYm1Aj7JY8/8up/9GyVXQBgVxz2NWNQA%2Bz2kmOXtyzH1PmOP5AVWVmU5U4NCu4h1HocAEnGM5z3FIZAAdo6nkGmEk8k0Uci6hcVmLHNWZv%2BQLb/APX1N/6DFVWl1HWNLsNHgjur6NXFzKfL3ZbBWPHA5odlYQlIzKqlmYAAcknpWf8A2pqt9xpWllFP/La7O0f98jk0LoBuiJNavpLk5yIx8sY/4COv40c19h2Fl1%2BKSQ2%2Bk27Xco4Pl8Iv1bpTRo93qLCXXbreuci1hJEY%2Bvdq0IoYoIxFBEqKOiqMAU6jlvuFzc%2BG8UcOryRQxhVW0YKqjAHzLXaVxvw8/wCQ1L/16t/6EtdlXNW%2BMpbBRRRWQwooooAKKKKACiiigD5y%2BP2seFPCv7b/AMLvGi/C/wAU3V3Z6Vqttr3iPQfhrquoRxwSwhbOGW8tLSRNolachC/7vzGYhQ%2BTyV54S8bah%2B0TeeG7T4c%2BI/t%2Bq/tAaX42sfE8nh26Sxj0OPw3a20kr3bRiKKX9zPYfZmYT5kB8vy2L19dUUAZvi4wr4euDcRsyfJuVH2k/Ovcg/yryjxIPiLoXiCXULEW%2BuadJHG8enu621xChjUqiyYKvgcZYAnFeq%2BM/wDkWrn/AIB/6GtcbrH/AB9p/wBesH/opK6KSvElnNad8Wfh/PdLpuu6dqOjXh/5dtVnWLP%2B65j2sPTnmukS50KRBJHZXLKwyrLeqQR/37rP1HS9N1e2Nlqunw3MLdYp4g6n8DXOP8LbfS3M/gfxHf6K5OfJik823J9TE%2BR%2BRFa2kvMWh2nnaL/0D7r/AMDF/wDjdHm6Ieun3X/gYv8A8briv7X%2BKfh/jVvDlnrUC/8ALxpk3lSgepjfgn2U1NZfFnwbNOLLVbqfSbk9bfVrdoGH4t8v60Xj1A6m98P%2BEJ7CK9Gj3EUrTyKJYLwI/AQ8kJg9fT19eM2Wy1a1k3aZqBliHSK9wzY/31A/lWqlzbXnh%2B2uLS4SWNrmYq8bhgfli6EVBQorcLlddetrUAan4VvxjrJbXiOp98eXkVox3OhyxrIun3eGAIzdqD/6LqtRTUWuoXJP7R0T7b9j/sm84j3b/tiY/wDRdT2%2BseHJNPuLdLS7G25TdmbjKiQH5vLxx6f4GsqOC%2BXUGuZPKZGUKMEgqM%2BnOf0ryr40ftG6f4D1hPgr4Dtf7Y8fa5HJLpvhuGQyohWOWQT3JU/uYicDLbS2/soZ1ulQrV58lNNvf0S6t9EurZFSrTpR5pO3%2BfZd2%2BxxVh4R1/8Abn%2BKt/rXxa0W%2B0n4VeDtcktdK8FzXGy41%2B9hIP2q8%2BT/AFAyGSLHzBh2yW%2BmrSHw1p9pFYWGjTQQQRrHDDDcoqRoBgKoEeAAOABXlH7Pvwy1z4T/AAutPC3jnWYtR1Wd7rUNSuIo9iTXtxKZJPLXAO1WYhcgEKRwOg9Og8xbdBMcsEG4%2BpxzXVjcSq1X2cH%2B7hpFK9vN925PVt6vTZJJYYWj7OHPL4pau%2B/p6Lay0X3su%2Bdov/QPuv8AwMX/AON0CbRRyLC6/wDAxf8A43WKPFGjA7Zblom9JYmX%2BlTx6zpMv%2Br1OA%2B3mjNcV4vqdWpuaZPpUlwyCzuuIJWw12pHEbHps68cHsai%2B36Z3s7o/W7Q/wDtOodElilunMcit/os/wB1s/8ALJ6r0uSLYXZe%2B3aQeumzn63Kf/G6Q3mi4/5BM3/gUv8A8bqlRR7OIXZbN3pPbS5PxuR/8TU2mTWE2p28UNnJG7ToEkEwO07hg4281nVa0P8A5DVn/wBfUf8A6EKHCNguwF1pY/5hr/8AgQP/AImnC70gddKl/wDAkf8AxFU6KfJELsvfbdF/6BM3/gSv/wAbo%2B36T2064H0uU/8AjdUaKXs4hdl77fpn/Ppdj6Xi/wDxupdWl0mLU7mFrK5%2BSd1wl2oXhj0Gw4HtWZU/iC5todavDNcIn%2BlSfecD%2BI0csUwux/naL/0D7r/wMX/43R52i/8AQPuv/Axf/jdZUuvaND9/U4f%2BAyA/yqL/AISfS3/49vOnPpDAx/pReK6hqbXnaL/0D7r/AMDF/wDjdHnaL/0D7r/wMX/43WJ/bOoTf8enh65P/XZlj/nRv8UT/dhtLcHrvZnYflxRddLgdJfS6QLaz32NyQbY7QLpRgea/X5Oec1Ulu9AhXfNaXCL6teoB/6LrOvNF1aW2tDqHiSZ1a3JVIIlj2DzHGMjJPOTn3qGPw1o6P5ktsZn7vO5cn8%2BKS5mv%2BCGhal8VeDkfyobe7nfslvchyfyjxUU2q3F4hGk%2BG54Cfuy314pH/fKoD%2BtWIoYYE2QxKi%2BirgU6nyvqwuinb6VLcEnXdSuZFP/ACyspBCB7ZKsTWpb6T4S07TIbi10OVWaeQb/ALSpc4VOrFMkc9Pr61Xqhrmua7pqWaDTIDYvqIhWRpv3kryeWGKgdAgwTnqM46UnGKdwuzZ87Rf%2Bgfdf%2BBi//G6pah4n8HabFHNcQXbLKWCeRP5mdv3j8kRwB3J4Fcb4ik1iY6pFHqMrTG7Fr9kLny2hlVRHgfwnO4bh1OfwNLtbh9eGr%2BHNLcRWyKbmz8vyQXZGjljUMAuf3cLenynkZouFjvYbzQLiFLiCzuXR1DI63ikMCMgj93XP634/sbfUpdA8M%2BBNY1O9iwJG%2B0rFbxkgEbpWjx0IPGaseFtPudL0G3sLtArxqcxhs7AWJC574BA/CtCqs2twNv4WTTSyK2p2AhvjZk3AiufMjB3LwuUB9K7WuN%2BHn/Ial/69W/8AQlrsq5qqtMpbBRRRWQwooooAKKKKACiiigAooooAy/Gf/ItXP/AP/Q1rwjxvb/tMeF/E9zq/hfUPD/irSpljlh0a%2BhNhdW8ZjUrFHMu5HwONzgE17v4z/wCRauf%2BAf8Aoa1xWo3Ntc3f%2BjXCSbIIUfY4O1hEmQcdCPSuikrxJZ5VD%2B1B4b0KZbH4u%2BDNe8G3BYL52q2Jls3b0S4h3Iw9ztrvvDnizwv4vsRqfhTxHY6lbn/ltY3SSqPqVJwavTQw3ETQXESyI6kOjrkMPQg9a4LxF%2BzF8GtevjrNj4XOiaj1TUvDly9jMh9f3RCk%2B5Brb3kLQ7%2Bob2wsNSgNrqNlFcRN1jmjDKfwNebf8Ky/aA8HfN4A%2BOaavAn%2Br07xppomJ%2BtzDtkP5Guz%2BH998Qb7RHb4laDp2n6jHcMippd400M0YC4kBZQVySw2nJGM554ad9GhDL34O%2BDVsYtS0JLzR7mS4lDT6TePDkBYyPlyV7ntVT/hHvijo/OjeN7XUUH3YNYstpA/66RYJ%2BpFWvi74k8QeFvBVpqfh/WLGCZbq58myuLNp5dQm8uLy7eJVdTlm4yM4yD0zWdqvxO1XT/G1r4Gt9AsJbuTTILq5SfWlgkDSSOnlxIyHziPLdjyvAHrUWih6k//AAmPj3SuNf8AhtNMi9Z9IvEm3fRG2tSP8aPANjGz%2BItQn0fYpaQavaPAEA5JLEbQB9a4r4sfttfB/wCEts8WpW%2Bq6hqUzbNF0nTrMSTao5Z1HlAH5Uyj/O%2B1SFJXdXB%2BGvgx8Wv20Vg8eftR%2BI00nwaZy%2Bm/C/w5fny5CjY/4mFwmDK4I5jXABAPyHKnvw%2BD54e1rT5Id3q35Rjo366RXV9Dlq4jllyU480vwXq%2Bnpq30Rc8V/tZeOv2gtfufhJ%2BxHZRXbI/k6x8SdSjxpmljo32dWGbuYDpgFc4PzKdw9T/AGdf2Y/AH7PfhLUZ9Ie41fxHqt5FL4h8W6s3m32pykSFi7nJVM8hAcDqcnLHVtvgr8JrDSoND0r4faXZWltGEt7ewtRbrGo6AeXtxU0fwj0y20uabQvFev6aEuIgsNrqrGPlZOSr7s9P1PrTxGN/dexw8eWn1196X%2BJ9fKKtFdm9QpYZ8/tKr5pfgvRfq9X5bHREA9RRXLf8Ip8SLI5034m%2Bco%2B7FqGlRt%2BbKQaBL8ZrP/WWnh6%2BUf8APOSaFz%2BYIrh5vI6rHUFVYYYAj0NQyaXpk3MunQN7tED/AErnf%2BEv%2BIlsf9P%2BFcjKOr2erRSZ/A4NH/CzpYONQ%2BHfiSI92TThIo/FGNHNF7hZnRWHhPw9dXLLNpaYFvKw2sV5EbEdD6gVW/4RnTF/1LTx/wC5cN/jWdpvxn8E2dwz6odRswbeVf8ASNJnGCY2A6Ke5FRQ/GP4ZznC%2BLYFPpIjp/6Eoqf3d%2Bgamt/wjyj7ms6gv0uc/wAxQNEul%2B5r95/wJlP9KqRfEr4fTfc8aaYP9%2B8Rf5mp4/G/gyX/AFXi7S2/3b%2BM/wDs1O0P6/4cNST%2ByNTH3fEU/wCMan%2BlT6To%2BtyarbRxeKJUZrhAri3QlTuHNQr4p8MP9zxHYH6Xif41c0TxJ4dGs2jnXrIAXMZJN0nHzD3oajYNSl/ZWr9/Ecv/AH4Sj%2Bx9RP3vENx%2BCKP6U8%2BI/Dw669ZD63Sf40xvFfhZOX8S6ePreJ/jTtH%2BmGof2FO339evv%2BAyAf0o/wCEdiP%2Bs1W/f/eujUUnjvwRF/rfGOlL9dQj/wDiqrTfFD4eQcv4y08/7lyG/lmlaH9f8OGpe/4RfSG5milk/wB%2Bdj/WrepeF/D9lqtzb2%2BlRBEuHVFYbsAMQOtc4/xm%2BGiNsXxQjn0it5XP/jqmp9W%2BMXhe91W5n0rTdYvFe4dk%2Bz6PNkgsSPvKKX7u/QNTcisLGD/UWUSf7sYFS1y3/CyNTueNN%2BGfiCQ9jcWyQj/x5qP%2BEm%2BJ91xafDSG3B6PeazGf/HUBP61XNHoFmdTRXLeT8Zb3iS98P2KnvFFNM4/76IFH/CE%2BN73jWfinelT1TT7GK3x9DhjRzPsFjs9QIFpYkn/AJdT/wCjZKwdU8b%2BD9FyNU8T2MLL1Rrld3/fIOao3nwb8KS29o%2BuX%2BraqXtyx/tLVZXA/eOOACBjjpV3S/AvgzRcNpnhexhYdJFtlLf99EZ/WkuawaGUfi54du%2BPDmlarq56A6fpzlfxZ9ox70f2/wDFTVuNJ8EWenKfuzatf7yR/uRDI/OuqAAGAKKdn1YGZ4asfFVpHNJ4p123vJJGBjjtrTykhHOQDkls8dfSrfiDQrnVrLTLuHWJbUWt1c8RRIxYskQyC4IUgZGcfxGqPibx74H8GRed4u8YaZpi4yPt99HET9AxGfwrkbv9rP4XX9hHpvgKx1/xZdRXMu%2BLw3oc0yjKxgZkYLHjg87uKTcVZMNTuU0LS/PhvLizSe4gXEdzOgaQf8CPTqenqat15ifGv7Tfi/5fCvwj0jw3A33bzxVq/nOV9fItgSp9mak/4UZ8RvFnz/FP4/a3cxN97TvDcSaZBjujMm6R1%2BrA079kB13jX4r/AA1%2BHMJl8b%2BN9N00hciG4ul81h/sxjLt%2BANch/w0H4l8Yfuvgx8Gtc1tG%2B5q2rJ/ZtiR/eV5hvkA9Aua6HwV8Bfg/wDD6YXnhfwDYRXQbd9vuIzPcZ7nzZSz/rXX0Wkw0L/wVfxNJFC/jKCyi1Q2B%2B2x6dI7QK%2B9eELgMR06ivQa434ef8hqX/r1b/0Ja7Kuat8ZS2CiiishhRRRQAUUUUAFFFFAHz3on7UfxUv/AI3afb3Vj4e/4QbWfirqXgKws47CcapBc2emXd01/JcGcxPG89jPCIBApCyRyeacMlSfs3ftLfEP4kfGLX/AfxT8VaLpcsHiDxNaeH/Cf/CuNV065ubPTtXls4bqPVLm6a1v826wyyJbxAr9pU/Iow3Sz/se%2BDT8VT8U9O%2BIfimyMfiObxFp%2BgW81k2n2GszWZsp7%2BJZLVpPMkt3nQo8jRA3MsixrIwcafh/9mvStJ%2BLkPxc1z4peL/EMmmy6lJ4c0XXr63ls9Fe%2BcNcGBkgS4cYBjRZ5pVijYpGEXAAB23i6Ga48PXENvEzu2zaiLkn517Cvnj4kfsLfDnxP4xu/iD4PTxZ4P8AEWoCOa%2B1zwdrFxayXExRSxkQ7ony2c5TnkGvoXxn/wAi1c/8A/8AQ1r5W%2BKP7T37SPwo8e6jb%2BMf2JfEmu%2BFIHRdL8R%2BANYttTuZ7cIuxpLBjHKjbcEhSw5wM4renbl1Je5Y/wCFVft%2B/Dbnwd8S9B8fWSdLLxl4fksLsIP4VuLTKu3%2B06fX1ob9pn4ueBl2/Hf9jvx5oaJ/rdU8OWy63ZIo6uz2%2BHRfqmR3qh4M/wCCkf7HfizVR4a1j4sR%2BEtZGBNovjqwm0a4iY/wt9qVEJ7fKxr2rRdc0TxJpseseHtYtb%2B0mGYbqyuFljceoZSQfwrVJvZiOB8Bfte/s0/Eq5Gn%2BFfjHoxvC23%2Bz9QnNnc7u6%2BTcBHJHoBXqEWkarPEs0GmXDo6go6QsQwPQg45rk/Hfwc%2BE3xQhMPxF%2BGuh63lcB9T0uKZ1/3XZSy/UEV5frf7EvwM8CaddeJfAHj3xZ8Nbe1ie4u7rw54wnt7WNVBZnkjnaSIIAMkYA%2BlVao3ZK4tErs9h8WfC2Oe5h%2BIUuqavpN5ZQyxzXUbr5UVuoVyWSZHRB97LgAkDk8cfNvij4o/GL9qzxjefDv9j%2BP%2B1dCtbmBdY%2BI9/pJWy024iwCtpIuPtT9W2hcBmyG2Nkec2Hgn9sf9tLwxqfh7wf8AHKbU/hNaaoV0vUvGOlrYv4neMp5kRNmizNbZABclS3HG4EJ7f4Y8ZftX/BrQLTwjN%2Bx54d1DSdOhEUJ%2BH3iqKGKFB2S2ukRj68NnP516UqVDLo2rR5qr%2Bz9mH%2BK28v7uy%2B1d6LiU6uLf7t8tPv1l6dl57vppqUvhj%2Bwzq3wZuV8aP4QvtW1WPUbOXVr4TPdXupeVKZGkUyKgjQFYAsI6LG/LEjPuPw28HeMLDSLvUtb8P3lvcarqc181o0BJt1fARDgY3BVXOP4ia8r/AOG5fBGhcfFL4P8AxI8Hhf8AWXOteDZ5LceuJbbzQw9/0re8Kftn/sp%2BMyq6H8e/DSuxwsV/qC2bk%2Bm2fY2fbFedOrOtU55yu/P7vyOyEIU48sVZG94x8dfFTwf4juLEfs5eKNW0qLZ5Gq6MYZmmygLfuSyuuGJXnrtz3rPb9qb4faLpk1t468M%2BLvDLtPG2Ne8J3cQACuDkojAfeHeu10fX9C8RWovvD%2BtWl9Aek1ncrKp/FSRWrD/yBbj/AK%2Bof/QZalqXcrQ8/wBE/aR%2BAviDaNN%2BLWhAt91Lm/WBj%2BEm012Gi6jp/iRBJ4dvob9SMhrKUSj/AMdzWfrXgHwL4kz/AMJF4L0m/wB33vtunRS5/wC%2BlNctqv7LH7POsMXuvhPpUZPezja3x9PKK4p%2B/wCQaHpP9h61/wBAe6/8B2/wo/sPWv8AoD3X/gO3%2BFeU/wDDKHwys/8AkWtY8UaNj7v9l%2BKbtNv03O1A/Z21yy50T9ov4gQnsLzVorpR/wB/Isn8TSvPsGh6/pWj6vHcs0mlXKg20wy0DDkxMAOnrVObw3qVwMT6BO4/27Vj/MV5ppvwi%2BP9vcsmjftVXqAW8pxfeErK4yBGxIz8p5GR171X/wCEK/aksv8Aj2%2BOHh%2B9x0%2B2eE/Lz/37lpXlfYND0ib4fW1xzP4Ijf8A39MB/mtQSfCjQpf9b8NrRvro6/8AxNeffYP2wLbiHxF8PLn3uNNvUP8A47JR5v7Y0f3rL4aSj/ZuNQQ/qhov5fgB3jfBzw0/X4Z2v4aSB/7LUmmfBXwg2p24uvhrbeWZ08zfp2Bt3DOeOmK8/wD7V/a7j%2B/4P8BSf9c9Xux/OOrGk6/%2B10mq2xg%2BHngh3FwmwHXbgAncMZ/dUna234AdkPgv4XHT4aW/46Z/9anr8HvDSdPhnafjpCn%2Ba1wX9u/tbN08AeCV/wB7XLg/%2B0qP7S/a%2Bk%2B54W%2BH8X/XTVLxv5R09O34AehR/C3Rof8AVfDm1X/d0hR/7LVmHwIlv/x7%2BDRH/uadj%2BS15pu/bHk/5Z/DOH6vqEn9Fo/sn9ru64uPGXgO1z3tdIu5Mf8AfclF32/AD1VPD%2BrRLtj0S5Uei2zD%2BlWtY0fV5dXupYtKuWVrlyrLAxBG489K8g/4QD9p285uf2hNJs/UWfg2OT/0ZLVjVfgz8bLnVbmPxB%2B1PrM5Fw4drDw/ZWu47jkjapxReV9g0PTv7D1r/oD3X/gO3%2BFH9h61/wBAi6/8B2/wryn/AIZtmuzu1r4%2B/EW6z95E8RCBD%2BEUa/zrPv8A9nL9m%2B20251rxpqtxf2tk229vNb8XXDRwtwMSEzKq9Rw3qKd59g0PS9d8X%2BE/C%2B7/hJfE%2Bnadt%2B99uvY4cfXeRXI6t%2B1P%2Bz3o8nlXHxV0ydycBNPZ7ok%2BwhVs/hTvDH7Pv7OkVhBqnhv4Y%2BG7u2njWS2ujaR3SSIRkMrvuyCOQQa7DSfDfh3QE8vQtBsrJcY22lqkY/8dAp%2B%2BGhx0/7Sml67bWq%2BBfhH4/8AEIjgKedpnhKYRZMjsPnl2ADDDmov%2BE0/af1z5fDX7LdzZRt9y68Qa5HFj6xRK7fqK9N1D/j0sf8Ar1P/AKNkrnvEvj/wH4LjM3jHxtpGkoBktqepRQAD6uwqUpW3DQ5P/hAv2y/EXy6p4t8OeHEPT%2BxfD097IB7m4Krn8MUf8Mq%2BJ9c%2Bf4hfFnx7rO7/AFttBdmxtn%2BscCL/AOhVjeIP27v2SvD1z9hf416ZqFwTiODQo5dQZz6L9mRwazj%2B2Vf%2BIf3Xwt/Ze%2BJuvlv9Td3GgLp1pJ/22unX/wBBpe73v94anf8Ahr9lH4SeEpRcaT8GrV5gc/aL6ye6lz675t5B9813y6BqNvodtZ22izII7iXEUdsQFXbHjgDgcH8q8C/4TT9vXxn/AMi/8FfAvguM9X8U%2BJZdSlA9Qlmirn2LY96nm/Z7/ac8X6VDL8U/2zdUtLSW4kDaZ4H8PW2meUcR523L%2BbKc5A5xjHvTu1sgPZdaZfDenyav4iYWFpEMy3V6fKjQe7NgCvJvEf7cH7NOh6mfD%2BjfEIeJdVORFpXhCyl1SaU%2Bg%2BzKyg/VhXHD9nP9hjQb3WNX8feII/GmseGYPP12TxT4om1i8tFzj95bB2%2BZjwF8rcxIABJAr174Oaj8J9T8MyN8I/D9ppVlbXT21zp0GiHTpLaVODHLbtGjxNgggMoOGB6Gneb7BocR/wALm/ay%2BIH7v4Pfsaa1p9vJwmsfEW9XTVj9zaxiSZh%2BVIf2b/2w/iP8/wAYP2jb3Q7ST/W6L8NdC%2Bx7f928nDzfoK9K8c/Ev4dfDDS/7c%2BJPj7RfD9lzi71vVIrWM464aVlBrxbVf8Agpp%2BzVeahLoXwbg8V/E/VIm2vYfDrwrc6gFPbMxVIAPfzMAcmk1bdgfSnwO8Av8ADjSrXwpC2qzW1hp5hiu9YneaeX5gcvK/Lt15NegV5n%2Bzv4p1fxtoVl4r17wVqHhy8vtMMs%2BiaqyG4s2Lr8knlsy7u/BPWvTK56vxlLYKKKKzGFFFFABRRRQAUUUUAFFFFAGX4z/5Fq5/4B/6GteEWn7Xn7LPi34maj8JfD/7Q/g248U6LOlhqfhv/hIbdb%2B3uY0VXjMDOJCQwI4BGQRmvd/Gf/ItXP8AwD/0Na%2Bev2hf2H/2P/2kLtpfjj%2BzZ4N8R3U1pDv1K/0KH7YMxJnFyiiZfwcV0Ur8uhLOx8Z/D3wD8R9LOh/ELwRpGvWRzmz1nTYrqI5/2ZFYfpXi2tf8Eyv2UjqMuv8Awz0PX/h3qspydU%2BHfie60px9I0cwj/v3Xknxc/4J7/s9fsj%2BD5viD8IP21fjB8ENOtTtstK0bx3NqWmSy4JWJdP1AT%2Be3BwikHAPQA1xOkfDj/gsL%2B0F8Dbq2Hxo0nWNHuL/AHWJ8ZWUfhbUdb08H7sq6bBP5W4AgglA2cn5evpYfBSrw9rVtCmvtP8AKK3k/JfNo5a2JjTlyQXNPsvzb2S838kzp/iH8QP2gPgb4zj%2BGP7M37cGvfFXxAsm0eCNZ8EWutSQgHBa51CB4DEB0bJJHUhetSfFrwH/AMFI/ihq2mX37QPwTtPF/g5I4p9R8CfD/wAa22kq8qkNtuBc72uRkZMazkZA2sO934UftA/tJfsheG18JeMP%2BCPHiXS9JhwJ9U%2BDnijT/EjXrDjzWhdoLpj/ANdNzY6E9K6/TP8Ags5%2BwpZ3sWifF7xV4r%2BGOqyttGl/EzwFqWkyKe4aR4TCCP8ArpWv17D4XTBx5X/PLWXy%2BzD5Xl/eM/q1WvriHdfyrSPz6y%2Bdl5HQ6d/wUM%2BHPw78M2Ph34rfsw/Ff4b2Wnlokm1DwBLNpkKBI1CRTWJlUqoUcBRgY4rqvAv/AAUA/Yq%2BI7LF4X/aZ8I%2Ba5wltqWqrYzMfQR3PluT7YzXVfDX9rD9l742aNaR/B/9ovwP4nkkuZSsGheKrS6lGVjwCkchZT7EA1c8d/Az4KfFFWX4lfCHwx4g3j5m1rQbe6P5yITXmpzd3e526I6DSNb0bxBYpqeg6va31s/3LizuFlRvoykg1l%2BK/hV8MPHYYeN/hxoOsbhhv7U0iG4z/wB/FNeO6v8A8Evv2Jr2%2BbWPD3wjl8NX7fdvvCWv32mun0WCZU/NTVb/AIYL8Z%2BGf3vwq/bs%2BM2jsv8AqrfWPEEGs20foBHdwk49t1P3uqDQ6jWP2Bv2SNXujqEXwctNNuf4LjQ765sGQ%2B32eRB%2BmKZH%2BxJYaXpc0/gX9pX4taCI7iIR2lt4za4thlZOsVwkmcY9R1Nc1/wpv/gpD4T/AHnhr9s/wf4qA%2B5B4v8Aholr%2BDPYzrn6hRViLxj/AMFTPCulTNrPwW%2BDniyEXERb/hHfFd/p0jHbJgYu4XUZ5/iPapaj2DU1v%2BFDftZaLx4X/baup4l%2B5b%2BIPAtjdZ9jJGY3/Hmj%2Byv%2BChWi/JZeLvhNrqD%2BLUdL1Czkb8YndR%2BVYP8Aw1f%2B2DoHzeO/%2BCcHiZIx96Xwz460vVM%2B4XdE35gUf8PENP0w48Z/sc/HnRAv%2BsnuPhy9xCv/AG0tpZBij3e7/ENTe/4WL%2B3ZonGqfs2eDtbI6nRfHTW276faIP50f8NF/tLabz4k/Ya8QxgdW0nxbp15%2BQDqf0FYR/4KnfsaWHyeLvGfiHw9J/FHr3gTVoNv1b7MVH4mtfRf%2BClf7B%2BvY%2Bw/tQ%2BFo89Ptt01t/6OVcUXX8wfIvaZ%2B2Vrem3Lf25%2Bx38Y4m%2Bzyg/YvC0N2ozGwzmKcnAznp0qv/w3N4BtuNb%2BDvxS0z1%2B3/D67XH12hq6zwp%2B2V%2ByJrNyTpf7Unw7nLW0wCp40sd2TEwAx5ua2dN%2BNXwb1nH9kfFrwzdZ6fZtet3z/wB8uaavfcDzr/h4D%2BzZB/yFdV8SWPr9r8FakMflAaP%2BHiP7Ha/674utD/18eHdRjx/31bivYLLXtD1IA6drNpcZ6eRcq%2BfyNW6dpdw0PF4/%2BCh37GUv3fjtpw/3rK6X%2BcVXdI/4KD/sZw6razy/HzSFRLhGZjDPwAwJP%2Brr1iS3t5v9bAjf7yg1Louk6U%2BtWm7TLc/6VH1hX%2B8Pak%2BazDQ8ab/goJ%2BxuoyfjzpP4QTn/wBp1C//AAUQ/YyQ4/4XnYsfSPT7tv5QmvYl0vTE%2B7p0A%2BkK/wCFSpFHEMRxqo9FGKfvhoeLf8PD/wBkJ%2BLb4o3NwewtvC2pyZ/75tjR/wAN%2Bfs/T/8AIIj8W6gews/A%2Botn/vqEV7WSFG5iAB1JrPvvF3hTSwTqfifTrcDr597GmPzNHvdw0MH4RfGXQvjLpl3q2geGPEWmxWc6xMPEOhy2LSkrndGsgBde2R3rlv2tbqPQ/EE/i7S/FVzFf6NNHfXlnDr8sEkNilyd8lvaqPKuZJCfLIl42n5SDgHqdS%2BP3wI0XP8AbHxr8I2mOv2nxJax4/76kFcr8R/2tP2CbnxIdV8W/tD/AArvbiwvZJLCafxLp9zLbsWzujw7Mh4ByMdBSfqBx/xZni/4Wlrl1puoxL4tlvtJPgecyjzZIZI3gkjgJ5aISb3lUZVSQz4wDWDomjxx6to194J8M3C2vh2DTZfHFja6c5YT215Kj%2BZGq7pptkskvAZ2WFTz8uen1D/gpp/wT78OFID%2B0b4eYxgrEmm209zgHsogib9Krf8AD0D9lzUuPA8HjrxOT91dA%2BHOqybvpvgTNS%2BW%2B49T1H4B6ff2PhG%2Bkm064s7K68QX1xo9rdWzwyRWjzExgxuA0Y%2B8QpAIUjgVX%2BLnwe8dfEzWbW50D9oDxL4S0%2BK28u40/wAPQ26tO%2B4nzPNkjZlOCBgccZrzb/hv3XtY/d%2BCv2FPjtqDn/VyX/gyLToW/wCBXM6n/wAdpP8AhpX9uvX%2BPCX/AATrmtIn%2B5d%2BJ/idp1tt9zFCsr/hxVXjawtTpbz9hH4eajbWh8f/ABc%2BJ3ixJLcs8Ov%2BO7kx/wCscYCQeWFHGcDHJNX/AA1%2Bw7%2ByT4UkE2mfAXQJ3Bzv1W3N8xPqTclyT71yd7f/APBVjxPb2hi8P/A3wpbvbkJ9rvdV1O5RfMfnEaxR5znuRVf/AIZ3/b58UHf4y/b/ALbSIn/1tj4P%2BGlnHgeiz3Mkrj64BpJR7Ae8%2BH/CXhTwlbfY/CvhjT9MhxjytPso4V/JABV37Tbfafsf2hPO2b/K3jdtzjOOuM96%2Bef%2BHdukeIfm%2BK37WHxq8Vq/%2Bvsrzx49paP/ANsbRIgB%2BJ%2Btdz8Cv2M/2bP2bNdu/FXwc%2BGyaXqt/aG2vtUn1O6u7i4iLK5VpLiVyQWRT%2BFUr9gLX7R%2Bg/EzWfCay/C7xfqVnqcEcn2HSNLvLa1fULligjLzzqwEcQ3yNGoBkAwTjg%2BRfFHV/DOtaJ4E/a2v/HPgmZLrwNJ9jtPiBpDlbjULZoLlDaxCUR210zSSxkqXdSE2CTZXe/t3%2BKdI8IfAWbVZ/hpaeLdVbUYU0DRLuaSISXADSyyb4iJEWK1juZnKc7InyCM1yXxZ8deO/Dl74d8N/AW50jwjpNt8OL3xnDAmi28i6rJavYxtZy%2BYmUjW3m%2B9GyyAsPmwMGZbgjkNa%2BFnxD%2BK3hvTvh7p/g/VtG8Svqet6gur3enzfYorS%2Bt2v4JXu1Ty2kF/HYK8WRJ%2B6kbbhRn3v4K%2BHvGh8b%2BMfiT4v8GT%2BHP%2BEhnsFg0a4voLh91vb%2BW9wWgdkG8sFAznbCpIUkqPj74ifFn44%2BMvgXqnxa8G%2BMPEt5q3jXVvEeh6r4Je/lmigEel3OqWVrbw9Ldzb2bwh4wry/bFLFjsx9E/sY6v4Afx18Q/C/wG1%2Bwv/hvp82lzeHU0m5820sLyeGWS9tIsEhMHyJWj42vOwIByKI2uNnqvxF%2BBnwa%2BL2paVq/xV%2BF2g%2BJJ9EMp0ltc0uK6FqZdm8osgKgny05x/CK3YYPDng/Q/Lt4bLStNsoidqKkEECDr0wqgfgK8x/ah%2BBX7QHxvk0TTvg7%2B1/rXws0u2W4HiOLw/4Zsry71UP5fleXc3IY2hTbLkorFvMHTbz5ZYf8EcP2TvEF5FrH7Rfib4j/ABl1CJw8dz8U/iDe38aN/s28TRQBfRTGQPSqd76IR9g/CDXtD8TyJ4g8NazaajYXdiXtb2xuFmhmXcvzI6Eqw9wa72vNvgB4B8EfC3SbT4ffDfwlp2haHpWmmDTdI0m0SC3tow6nakaABRkk8DkknvXpNc1b4ylsFFFFZDCiiigAooooAKKKKAOft/ix8LLr4hT/AAjtfiV4fk8V21oLq58MR6zAdRigIUiVrYN5iph1O4rj5hzyKND%2BLHws8TeNdT%2BG3hv4leH9Q8R6KgfWdAsdZglvbBTjBmgVzJEDuXlgPvD1r5gs/D3jDw/%2B0BpWg6j8NvFH23RP2g9Z8Y6t4kt/Ct5NZzaJdaDe2lvJHdRxNHO%2B68s7M26sZUEDOyCOIPVn9nnwR46svjj4P8LX3w81/T7/AMFeJviJf%2BK9fvtDngsru21TV5J7QQ3boIrs3Ilt7kpE7mP7MVlEbqqkA%2BovGf8AyLVz/wAA/wDQ1r4u8c/Dr9nT9hD48eJP2prv40fE261fx/ZsifDKfxvd6lpt/fTtBKZrLS5GZYZgyCNXUrGiSsgA3AV9u6pp0OrWL6fcOypJjcUPPBB7/SvGfhf%2Bwj8K/AHxD1P4yeJPEGteLfGOpXDkeI/EU8cstlbkkJb26hNsCKh2/KASMjIXCjvwUsFG8sQ3ZbRW8n2vtFd3Zvsr7c9f6w0o0ra9X0%2BXV9tl3PkD40fBX9q/4j%2BCpf2q/HvhiK48QRTiSw8Fw64lnN4U0AK0lzJaPLE8TarIiKgkkC%2BV5hcFXjjWPlPAHhbWLf8AYD%2BCXgD4dz23hm90jWtR8UeL/Bl18VZ/D97qFpa2V9Pc2o1DSnnlR1ubyxnkG7JVf3oAZsfp1/wrzRf%2Bfq6/77X/AOJrmviV%2Byp8BfjNpUWhfF74aaN4psre5%2B029r4i0e2vY4Ztu0Sos0TBX2kjcMEDvV4vHPF1OaWiSsktorsv6u3q22woYeNCFlq3q292%2B7/qy2Wh8AaL%2B2P4407wXp/xo8I/FXXtK8C%2BGfE3hjw/B4X8RrDqF1rUVyiXOr3N9e3KSXTyW9pJO8TRSR7zY7mLrL8vs37Mf7R3xR%2BN/inT/BHx68H%2BGIrbxt8MLLxxoWkabYTGXS7O4mCGwvzPI6TzKJYcSokauyzDywEBPtni3/gnZ%2Byr448Z6h478T%2BCb25vNUtpIr60bW7kWEjvYNpxuPsW/wCzLciyd7YXAjEoidk3Y4p/7P8A%2Bw14H%2BA2o6h4iuPiZ4r8X61fafZ6Ymu%2BKJrM3NvptohW3s0FrbwxBFLSOW2b3aQs5Y4NcqqxubWPMvin/wAEx/8Agnv8YdJS68e/sc/D%2B4uZ7mYT31j4chsrmT5Y/vT2wjkPU9W4zXnH/Dnf9njwtx8A/jb8bPhYi/6uDwJ8WdQSFfbyrtrhCP8AZIIr6E/a9/YB0X9rbR/D%2Bnw/tSfGb4Y3Xhu5up7PUvhN42Gky3TTrCpW6UwyR3KL5KlVdSAWf14679n/APZsu/gx8IdG%2BGXi/wCNfivx/qGlJMk/i7xXLbnUNQDzSSKZjDEiEorrGCFGVjBPOTQqlO%2BqCzPk3/hin/goR4I%2BX4Q/8FYfEM9rHzHp/wAQ/hppWs%2BZ6BriPyJR9Qfwo8r/AILaeCOI7v8AZw8e2sXeWPWtEvZv%2B%2BTPCD%2BX419x/wDCvNF/5%2Brr/vtf/iaP%2BFeaL/z9XX/fa/8AxNP2lPuwsz4c/wCGu/8Agpn4R%2BXx/wD8EpH1SGP/AFuoeB/jFpd1u91t7lIZPwyasR/8FVb3w7pc1r8T/wDgnJ%2B0zoBFxE095b/DRdTs48LJ1msriT17qOhr7b/4V5ov/P1df99r/wDE1IvgTSFtXtBc3O15FcneucqGA/h/2jQ6ke4WPhpf%2BC1//BPbTCIfiD8SPE3g6fOGg8W/DjWrMqfdzaFB%2BLV6/wDs8ftqfsq/tYzX9r%2Bzn8ctC8WzaXCk2o2%2BlzsZbaNyQjOjKGUEggZHY19At8OtDZSrXFyQRgguvP8A47VDS/gh8PNEv59V0XRIbO6ulC3Nza20MckoBJAZlQFgCT19aarR7/gFjyL9or4x3HwV%2BGt54i0HQG1nxBPDNH4b0JMg310sLy7WI%2B5GqRvI7nACoeclQfJfHvxm8R6p8PfAXlfAjwZr/i/xZ4Rutf1a21dDFY28FpbxSTqhaOSQmRplSPcMDqxr6V%2BN37H3wL/aH8HzeDfix4Os9YhNvPHY3Go6fb3EthJLGYzNAZY28uQA8MPQV5z4k/4Jv6EfA/hvwb8MPjBqfhdvDGg6h4e0%2B6g0i2lCaNexwJPbqgCKswNtE8c5yUbdlWDEUnVjcEj56tfi/wDsf%2BJEi%2BIXi/8AYg%2BHs3gB5JtPv/El3o1lNdwagmlXF9MFtDZlXhiFvIjSmdW3qCsbA7q2/gx%2Bz9%2Bxr8btcv8Awt46/YN8F%2BFNVh0iz1ixsorS3l%2B1abdbxDOWhjjEb7o3VoznaRwzDmvVNZ/4JY%2BDNXF/4AHxOuLb4c3c1/eQeFbbSAL23vLvRZ9Jlb7aZirQ7Lqe4ERg3CdlbzNi7D6F8Ef2RtS%2BHnizVPiF8SPiZF4j1y/0TTtGgn0rQf7Mt7axsxKyIImnuCztLPM7NvA%2BZVCgLzKqRvqOx45e/wDBLn9gLUCTP%2BzJoS5/54TXEX/oEoqp/wAOo/2BF/1HwEEH/Xt4o1WL/wBAuhXtH7Tn7Edv%2B0jp%2BkWWmftP/Fj4bvpE00n2j4a%2BI7ewe%2B8wKNtx5ttKJFXblQNuCzdc8eQN/wAEj/iZa8aR/wAFXv2kUHb7Zrul3H87EZpupSvsKzK3/Dqv9h9P%2BPX4Y6zB/wBcvH2tD%2Bd5VjSf%2BCVv7GU%2Bq20DeEPEwR7hFYL8Q9ZHBYf9PVH/AA6r/aLg4sv%2BCuPxvUdvPsdGl/naU63/AOCX/wC1ZaTpcW//AAV6%2BL4Mbhl3eHdEPIOf%2Bfak6lO2wWZV/wCHWX7Gbf6zwZ4kf2b4g6z/APJVH/Dqn9hh/wDj5%2BE%2BqTf9dvHmtN/7eVP/AMOt/wBqV%2BJv%2BCvHxhI/2NA0Rf8A21pR/wAEpvj/AD8ah/wVu%2BOrDv8AZ4dHi/lZmn7Sn2CzIB/wSj/4J/5Bm/Z6t5yP%2BfrxBqUv/odya0LD/gmN%2BwRpxBt/2YfDjY6eessv/obmq4/4JD%2BObs/8Tn/gqx%2B03IO/2LxVplv/ACsDTv8AhzJos/8AyFP%2BClv7XN1n7w/4XIsAP/fizjpe1p/yhZnR6b%2BwV%2BxPpWPsv7KXgBsdPtPhW1m/9GI1dY37Mn7NvhvWLmPw7%2Bz34HsFjuXCLZeE7OIKAxwBtjGK8wH/AARA/Z4vf%2BRp/ag/aN1wH7w1b426i%2B767CtLL/wQR/4JvanK03i3wN4219mYljrfxV12bJ9x9rAP45p%2B1jfYLM9cnvvhZ8N4T9pvPD%2BgRhed8kFqAPx21yPiX9tn9jTwbu/4S79rX4Z6WV%2B8uoeO9PhI/BpgawtB/wCCEH/BKTw44ksf2QdBmYHOdRnnvM/Xz5Hz%2BNd34b/4JYf8E8fCBV/Dn7HHw1tZF%2B7OvgXTWk/77aAt%2BtP2yDlPHPFP/BYP/gmT4PLDVf2z/Bk5XtpN5Jf5%2Bn2ZJM/hWF/w%2Be/Yv1v5fhZZfEzx0x%2B4vhD4Ta1PvP8AsmW2jB/PFfYvhb9mv4M%2BBwq%2BCvAmmaOFHyjS9Lt7fH08uMVu/wDCvNF/5%2Brr/vtf/iaPbLv%2BAWPiS9/4Kb/FXxZbWlv8KP8Aglt%2B0VqMi25WOXxP4ZstBhk/eOQQ13dbgOcZKDkHioP%2BGkf%2BCsvjT9x4P/4JseEvCIb/AFd745%2BM1tcADsWh0%2B3kI%2Bm8mvuabwJpE8cUT3NyBDGUXDryNxbn5fVjUf8AwrzRf%2Bfq6/77X/4mhVI9wsfDn/CEf8FqPHn7nxF8dvgB8P4W6SeE/CGqa1cRj3N9NEjH/gIFel/szfAL9p74V%2BJNR8TftD/tt6r8U2vbEQW2myeCtP0WysnDhvNjjtQWLYBX53bg%2BtfTH/CvNF/5%2Brr/AL7X/wCJo/4V5ov/AD9XX/fa/wDxNNVKfdhZnjHxt/Z8%2BFX7QuiW2g/FTw/NfwWbTPaCHU7m28tpYmifPkSJvBR2BV8qc9K4bxd%2ByL%2Bzv4B/Zm0zQviLqGqv4Z%2BHujagILqDUv7Nez0wW0RvIDJZ%2BSzQTRxAyo7EPtGTivYvix%2ByvqXxJ%2BIPgbxloX7QnjXwpY%2BEdVlvdV8P%2BH5rVbXxKrKgW3vTJC7GJdrHEZUneeeBjp/iV8APhz8Xfh3qPwq%2BIFnd3uh6tBJBqFrHfPA0sbhQy%2BZCVdPujlWBHrSdWmwsz4Bj8V/Frx7%2Bzf4d/ae%2BGf7Ntr4P%2BKll43sfDHjKHwx4SttT13S9F%2B0raSwWv20BVmjie2MhkyiLFKCGVRXOeOf2gfGetS%2BMfE3hL4p/EDR9V%2BDXwsOu2mgau0NhcX2o6bezvrCahZafts7ySSBI48Rq8CrdRSRYdlevsX4Z/wDBLj9nP4SaV418MeBdV8Tabo3jrU/7Q1jT7HV/Kl%2B0hIgky3oU3nmI0QdX8/7zHII4rodF/wCCdP7I2meGtO8Lav8ACu38RQ6XrUus2114ykOtXR1KVlaS8ee%2B82R5mZEJctwUXGNq4XtIjsfFX7HGpaf4a/aL8G6Do2qWkHxL1PxB41tPjfpUU%2BLvULG3vLx9N1i7izkiQtaNBKRho70qhwhVfrz9o74W%2BPfjR8IdT%2BHPw0%2BOuufDbV9QeDyfF/hu0t57yzjSZHlWNbhHjBkjV492Mrv3DkV7Qnwz8ORTSXEbTrJLjzXUoC%2BOBk7ecU//AIV5ov8Az9XX/fa//E1SqwSsKzOE/ZU%2BHF/8IfA2kfDTVPiX4j8Y3GjaP9nm8T%2BLruOfUtRYOD5txJHHGrPzjIUcAdTyfWazNG8K6fod013aTTMzRlCJGBGMg9gPStOsKklKV0NbBRRRUDCiiigAooooAKKKKACiiigD5z%2BBn7W3xL8Z%2BLdA1H4i2WgL4Y8e%2BEPEPiTwtDpGnzx3ul22mXtpEsN1JJO6XUk1vexy7kjgEbxOmJAysOL0H9uD9o%2B7XwN4U1rTfBMWv/F7QdA1nwTcQaPdm10KK%2Bkke6t72M3e6%2Be3t1QpJG9sJpGIKRAZPsfw8/Y48EfDTxzB410Hx/4omj06HULTQNEvpLKSy0ewvrtLu9sYB9lEhhlmigz5jySItvGkbxoCrYOif8E9PhZoOiw6ZafEnxpJdaPZ6TZeC9YnvbN7rwrZ6ZO81nbWR%2By7HRTIyO1ylw80eEleQAAAHefs0/FPxH8XPhlLrvjO0sYta0rxNrWgaudMieO2nuNN1O5sWniR3do0l%2BziURs7lBJsLsVLHv65j4P/AAp8PfBbwHb%2BAfDd9fXkSXl5fXmoanKj3N9eXd1Ld3VzKUVE8yW4nlkYIqoC%2BFVVAUdPQAV896J%2B1H8VL/43afb3Vj4e/wCEG1n4q6l4CsLOOwnGqQXNnpl3dNfyXBnMTxvPYzwiAQKQskcnmnDJX0JXkk/7Hvg0/FU/FPTviH4psjH4jm8RafoFvNZNp9hrM1mbKe/iWS1aTzJLd50KPI0QNzLIsayMHAB5r%2B0L%2B1J%2B1V8F/Eni3Q9F0rwRr13a%2BB9d8QaPoWj6HqF5c6JBbXEUWmzX7pcL9q%2B2BpSLeOKBw8UqRyTrDJLXsf7N3xQu/il4N1C91f4g6Zr%2BpaXrUlhqf9n%2BCL/w7JYSiKKQW89hqE81xFLslSUFyoeOaNlXaQzc74f/AGPV8Naz421bS/2kPiLGPHep3moarHFLpMUkFzNgQvDdRaet1i2jWOKBJJnVY4URxIuQex%2BDfwV0r4Ow69dJ4v1rxFq/ijWhqviHxB4ga2%2B1XtwttBaR5W1hhgjVILaCNVjiQYTccuzMwB2dFFFAHgH7WH7S/wAW/hNrviCy%2BFFh4deHwL8L73xz4mj16xnmk1O3hkcR2Fs0U8QtpJFt7rNw4mVD5X7pgWxD8Uv2ofHng79p%2B0%2BH83ivRvDPgR/DXh2/TW9X%2BG%2Bramt9d6hqN/bSWzahb3UVrpuFt7RUa4Vh5l2M7uFPafHv9k7wL%2B0HqR1DxH4r8Q6QLzw7deHvEVvoNzbxx67o9w6PNYXXnQyERttYB4TFMollCyKHNN%2BI/wCy1ZfFW5t4PF/xq8cS6QYbOLW/DcV3ZJYa0ltdNcxCdPsm6E7m2ObVoDLGqJIXCrgA479nX9qP4qfE34heFrfxxY%2BHl8PfEjwxr2veEYdKsJ4rvS4NOv7OCOG7lknkS6eaC%2BjlLJHAInidMSBlYfQleW/CX9kzwH8H/Ho8daL4p8QagLGx1Gx8M6RqtxbtaeHrS/vI7y7t7QRwpIUkmhg/17zMiwIiFEBU%2BpUAFeXfHz4mfFLRfHfgv4O/Bm68P2Wu%2BLW1K4fVvE2lz3traWllbq7gQQXFu8kjyzW6A%2BaoVTI2GKhT6jXD/Gb4F6Z8YpdE1eHx14g8La34dup5tH8ReGJLZbuBZ4HgmixdQTxPG6PyGjJDJG6lWRSADyvxl%2B0l8c/Ff7Hvgr9pn4Lal4S0XVfFnh3S5bXwv4k8M3WqC71fU/s8VpZpNBf2vkxi4n2SSlJMR5kwAhBm%2BDf7SfxR8R/tHa38Jvix4w8P6VDa%2BJL3SvDujr8M9XtJNaFvZxzmSDVprtrOWTBmlNukbSCKJj0VnrvtG/Zf8A6D4S8AeAtO1bV10b4aatb3vhbTjNDsjjt7Cayt7SQiLdLDEk29ST5pkijZpGwQRv2a9KvPjDp/xa8QfFLxfq0Wi61cax4e8Lanf28mm6Vfz2ctlJPCRALk/uLi5RYpJ3iT7Q%2ByNcJtAPSKKKKAKPiabxHb%2BHL%2BfwdYWd1qyWcp0y21G6aC3luAp8tZZER2jQtgMyoxAyQpPFeD6F%2B1J8WNS/Yv8H/GK50/w7/wm3i7XNK0KIx2M40u3u7zVk083JhM5laKNWabyvODPs2eYm7cPefEel32t6Dd6RpniS90e4uYGjh1XTo4GntWIwJIxcRyxFh1AdHX1U15B4R/Yj0Hwx8EE%2BAl/wDHTx3rOkWd5bXuh3epf2Sl3pF5b3sd9b3MD22nxKzx3MSuBKsiNkq6uh20AeU6/wDt0ftE2Vn480fSdL8GSax8G/Duva347km0i78jXorG4b7NBYoLsGxee3ikdpJXuRDIVXbKMtX17Y3kGoWUN/bMTHPEskZIwSrDI/Q14TrP/BPL4Ua5oc2j3XxD8ZJJrFlqtj431CK9sxP4us9RuRcXlvf/AOi7FR23Kptlt3ijdo4mjU4r3pVVFCIoAAwABwBQAtIxYKSi5OOATjNLTLiN5oHhjuHiZ0IWWMAshI%2B8NwIyOvII9jQB5B%2Bz38Xfj38UfhP421HxX4c8JL418PeKNZ0fTNO067uYtMea3/4945bh1eUruZUedYlLAF1hXPljyLXv2yP2nNF1b/hFY9T8Kaha2PxFufD%2BqeP/AA58J9b1ixkig0VryZIdOsr95zJDeKbWSUTPGGV1Ko8cir6z4G/Y%2B1DwH4W8ZeFLH9qn4mXMfjaXUbi%2BvJv7DhubG8vI2SS7tZLbTIjHKpZXTO5FeNflIyC/wx%2ByJqHgr4daR8NvB37UXxG0m18PlU0S40uHQrY2lsIGh%2By%2BRHpa20sZBD5lheRXQMjrlsgHpfw98T6f428A6H4y0nxPp2t2uraRbXltrOkRFLS/jliV1uIVLyFYnDBlBdyFYDc3U7FYXww%2BHPhX4P8Aw30D4UeBrOS30bw1o9tpmlQyzNI6W8ESxRhnbJdtqjLHknJPJrdoAK8s0L4sfFWb9sLXPgj4i0nQIfC0Pgi31nQLizaeTUJZDc%2BTK1wzFY0XduVYkViBGHMh8zy4/U68t1P9mW/vv2gJv2hbP9ojxzY3s2jrpQ0K1t9FOnx2YkMoiHmac8/%2BsJfcZi2TjO3C0AeLyft1/Fjw3Z%2BPbvxnq3hyDWNO1zxBpngjwVefDrV9Na9%2Bza%2BdKsbo6rPdNb38ZSS1mnS2iDBbgEbABn3D9nn4m%2BP/ABjqvjr4e/FObRrrXfAfiuLSbjVNA06WztdRim0yy1CKZbeWed4SFvPKZTLJloS4IDhVwPG37D/gP4natqV58Tfih438QWVxb6pHomk6lqtuYvDz38iySzWcqW63HmIyjyTPLMsC/LGFUBR3Hwc%2BDGk/B2y1pofFeseINW8S62dW8ReIdfa3%2B16hdfZ4LVGdbaGGFAlvbW8SrHGihYgSCxZiAdjRRRQB5Z47%2BLHxV8L/ALVngP4VWmk6B/wh3inR9Ue5vJWnfUmvbaNZAEAKxRRKrLknzGkMhGIhHmTnfjl8Uv2lPAXxm03wt8PfEvgzU9Nv9G1XWrjQLnwXeNfWmm2NooZzeJqQSSSS%2BntIkT7MuUllIyYST0/xR/Zsu/ib8XvDfxig%2BPnjXw9deFYZ49L0rQ4NHazPnqFnZ/tenzysXRVU/vAAFyoU5J3R8FfD8nxA1P4mXviHWZ9U1Xwda%2BHJ5BdrD5VvDLcymeIwojRTyNdHe6sB%2B5h2qhUkgHD/ALFnx78XfHLwXLd/Ejxto934kg0zTbzVNAsfh5qnhyfSftULOA8OpXM0lxE7JKsdwgWN/IkClirbfaa8%2B%2BDf7Pmn/CPxDrHjXUfiX4o8YeINb03T9NvNe8VzWjXAsbE3DW1sotLeCPaj3d05coZHadi7thQvoNABXn/7R/jD4i%2BAvATeMPBPjTwX4Z0/TDLdeJ/EvjeyuLu30%2BxjgkbcltBNAZnaQRrzMgVSxAkbCH0CvPP2gf2ebH9oKDw3BqHxM8SeHP8AhGPEEes2Y0CPT5UubqON1hM8V/aXMcoiZ/NQbRslSOQfNGhUA8u8aftR/tIXHgvwUvhDwN4f8NeLdT%2BDN9498WaL4tsbm5WzmtYrDdo6CKaFopGmvJENw2/yhb8wyF8LD8Jv20viN8UPGfhXxrbaVoUXw98a%2BP7rwjpGnGwnGrWs0OkXF99tluPPMTo01nPB5CwKQrxyeacMld38Sf2QNL%2BK%2BmWEXi/44eOW1S10TUdEu/EVlJplveahpV%2BLf7XYzeXYiFUkNtCwkijjmjZcxypk5l8Mfsb/AAy8IfFGz%2BIuh67rkVhpmty63o/gwT240jT9Vl086fJexKIROHa2eVPLaYwhp5HEYdtwAPWqKKKACiiigAooooAKKKKACiiigAooooAKKKKACiiigAooooAKKKKACiiigAooooAKKKKACiiigAooooAKKKKACiiigAooooAKKKKACiiigAooooAKKKKACiiigAooooAKKKKACiiigAooooAKKKKACiiigD//2Q%3D%3D\">"
            ]
          },
          "metadata": {
            "tags": []
          }
        }
      ]
    },
    {
      "metadata": {
        "id": "SjlSkTlMcG18",
        "colab_type": "code",
        "colab": {}
      },
      "cell_type": "code",
      "source": [
        ""
      ],
      "execution_count": 0,
      "outputs": []
    }
  ]
}