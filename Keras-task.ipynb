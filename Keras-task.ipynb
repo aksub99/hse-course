{
  "nbformat": 4,
  "nbformat_minor": 0,
  "metadata": {
    "colab": {
      "name": "Keras-task.ipynb",
      "version": "0.3.2",
      "provenance": [],
      "include_colab_link": true
    },
    "kernelspec": {
      "name": "python3",
      "display_name": "Python 3"
    },
    "accelerator": "GPU"
  },
  "cells": [
    {
      "cell_type": "markdown",
      "metadata": {
        "id": "view-in-github",
        "colab_type": "text"
      },
      "source": [
        "[View in Colaboratory](https://colab.research.google.com/github/aksub99/hse-course/blob/master/Keras-task.ipynb)"
      ]
    },
    {
      "metadata": {
        "id": "S0CYB0Blk8UY",
        "colab_type": "text"
      },
      "cell_type": "markdown",
      "source": [
        "# Getting deeper with Keras\n",
        "* Tensorflow is a powerful and flexible tool, but coding large neural architectures with it is tedious.\n",
        "* There are plenty of deep learning toolkits that work on top of it like Slim, TFLearn, Sonnet, Keras.\n",
        "* Choice is matter of taste and particular task\n",
        "* We'll be using Keras"
      ]
    },
    {
      "metadata": {
        "id": "9oQF4eVFk8Ua",
        "colab_type": "code",
        "colab": {
          "base_uri": "https://localhost:8080/",
          "height": 323
        },
        "outputId": "1fc8955d-e339-426e-cb96-3522990c43ee"
      },
      "cell_type": "code",
      "source": [
        "! shred -u setup_google_colab.py\n",
        "! wget https://raw.githubusercontent.com/hse-aml/intro-to-dl/master/setup_google_colab.py -O setup_google_colab.py\n",
        "import setup_google_colab\n",
        "# please, uncomment the week you're working on\n",
        "# setup_google_colab.setup_week1()\n",
        "setup_google_colab.setup_week2()\n",
        "# setup_google_colab.setup_week3()\n",
        "# setup_google_colab.setup_week4()\n",
        "# setup_google_colab.setup_week5()\n",
        "# setup_google_colab.setup_week6()\n",
        "\n",
        "# If you're using the old version of the course (check a path of notebook on Coursera, you'll see v1 or v2),\n",
        "# use setup_week2_old().\n",
        "\n",
        "import sys\n",
        "sys.path.append(\"..\")\n",
        "import grading"
      ],
      "execution_count": 1,
      "outputs": [
        {
          "output_type": "stream",
          "text": [
            "shred: setup_google_colab.py: failed to open for writing: No such file or directory\n",
            "--2018-10-14 08:00:54--  https://raw.githubusercontent.com/hse-aml/intro-to-dl/master/setup_google_colab.py\n",
            "Resolving raw.githubusercontent.com (raw.githubusercontent.com)... 151.101.0.133, 151.101.64.133, 151.101.128.133, ...\n",
            "Connecting to raw.githubusercontent.com (raw.githubusercontent.com)|151.101.0.133|:443... connected.\n",
            "HTTP request sent, awaiting response... 200 OK\n",
            "Length: 3595 (3.5K) [text/plain]\n",
            "Saving to: ‘setup_google_colab.py’\n",
            "\n",
            "setup_google_colab. 100%[===================>]   3.51K  --.-KB/s    in 0s      \n",
            "\n",
            "2018-10-14 08:00:54 (67.1 MB/s) - ‘setup_google_colab.py’ saved [3595/3595]\n",
            "\n",
            "**************************************************\n",
            "inception_v3_weights_tf_dim_ordering_tf_kernels_notop.h5\n",
            "**************************************************\n",
            "cifar-10-batches-py.tar.gz\n",
            "**************************************************\n",
            "mnist.npz\n"
          ],
          "name": "stdout"
        }
      ]
    },
    {
      "metadata": {
        "id": "zL5mfJXNk8Uf",
        "colab_type": "code",
        "colab": {}
      },
      "cell_type": "code",
      "source": [
        "# use preloaded keras datasets and models\n",
        "! mkdir -p ~/.keras/datasets\n",
        "! mkdir -p ~/.keras/models\n",
        "! ln -s $(realpath ../readonly/keras/datasets/*) ~/.keras/datasets/\n",
        "! ln -s $(realpath ../readonly/keras/models/*) ~/.keras/models/"
      ],
      "execution_count": 0,
      "outputs": []
    },
    {
      "metadata": {
        "id": "NUOiks02k8Uj",
        "colab_type": "code",
        "colab": {
          "base_uri": "https://localhost:8080/",
          "height": 34
        },
        "outputId": "41e70fa7-4d51-4aee-9ec6-f75eae2cb67b"
      },
      "cell_type": "code",
      "source": [
        "import numpy as np\n",
        "from preprocessed_mnist import load_dataset\n",
        "import keras\n",
        "X_train, y_train, X_val, y_val, X_test, y_test = load_dataset()\n",
        "y_train,y_val,y_test = map(keras.utils.np_utils.to_categorical,[y_train,y_val,y_test])"
      ],
      "execution_count": 3,
      "outputs": [
        {
          "output_type": "stream",
          "text": [
            "Using TensorFlow backend.\n"
          ],
          "name": "stderr"
        }
      ]
    },
    {
      "metadata": {
        "scrolled": true,
        "id": "YV790P_Ak8Up",
        "colab_type": "code",
        "colab": {
          "base_uri": "https://localhost:8080/",
          "height": 265
        },
        "outputId": "6df31643-479a-48aa-8a3f-46d360757a87"
      },
      "cell_type": "code",
      "source": [
        "import matplotlib.pyplot as plt\n",
        "%matplotlib inline\n",
        "plt.imshow(X_train[0]);"
      ],
      "execution_count": 4,
      "outputs": [
        {
          "output_type": "display_data",
          "data": {
            "image/png": "[encoded data removed]",
            "text/plain": [
              "<matplotlib.figure.Figure at 0x7fc3b18df080>"
            ]
          },
          "metadata": {
            "tags": []
          }
        }
      ]
    },
    {
      "metadata": {
        "id": "xTwOJ5Puk8Ut",
        "colab_type": "text"
      },
      "cell_type": "markdown",
      "source": [
        "## The pretty keras"
      ]
    },
    {
      "metadata": {
        "id": "I-XBTQiXk8Uu",
        "colab_type": "code",
        "colab": {}
      },
      "cell_type": "code",
      "source": [
        "import tensorflow as tf\n",
        "from keras_utils import reset_tf_session\n",
        "s = reset_tf_session()"
      ],
      "execution_count": 0,
      "outputs": []
    },
    {
      "metadata": {
        "id": "OyRDLGbdk8Ux",
        "colab_type": "code",
        "colab": {}
      },
      "cell_type": "code",
      "source": [
        "import keras\n",
        "from keras.models import Sequential\n",
        "import keras.layers as ll\n",
        "\n",
        "model = Sequential(name=\"mlp\")\n",
        "\n",
        "model.add(ll.InputLayer([28, 28]))\n",
        "\n",
        "model.add(ll.Flatten())\n",
        "\n",
        "# network body\n",
        "model.add(ll.Dense(25))\n",
        "model.add(ll.Activation('linear'))\n",
        "\n",
        "model.add(ll.Dense(25))\n",
        "model.add(ll.Activation('linear'))\n",
        "\n",
        "# output layer: 10 neurons for each class with softmax\n",
        "model.add(ll.Dense(10, activation='softmax'))\n",
        "\n",
        "# categorical_crossentropy is your good old crossentropy\n",
        "# but applied for one-hot-encoded vectors\n",
        "model.compile(\"adam\", \"categorical_crossentropy\", metrics=[\"accuracy\"])"
      ],
      "execution_count": 0,
      "outputs": []
    },
    {
      "metadata": {
        "id": "tAbbHlLok8U0",
        "colab_type": "code",
        "colab": {
          "base_uri": "https://localhost:8080/",
          "height": 374
        },
        "outputId": "6393ba08-3a41-49fc-f1c5-61855782ed76"
      },
      "cell_type": "code",
      "source": [
        "model.summary()"
      ],
      "execution_count": 8,
      "outputs": [
        {
          "output_type": "stream",
          "text": [
            "_________________________________________________________________\n",
            "Layer (type)                 Output Shape              Param #   \n",
            "=================================================================\n",
            "input_2 (InputLayer)         (None, 28, 28)            0         \n",
            "_________________________________________________________________\n",
            "flatten_2 (Flatten)          (None, 784)               0         \n",
            "_________________________________________________________________\n",
            "dense_4 (Dense)              (None, 25)                19625     \n",
            "_________________________________________________________________\n",
            "activation_3 (Activation)    (None, 25)                0         \n",
            "_________________________________________________________________\n",
            "dense_5 (Dense)              (None, 25)                650       \n",
            "_________________________________________________________________\n",
            "activation_4 (Activation)    (None, 25)                0         \n",
            "_________________________________________________________________\n",
            "dense_6 (Dense)              (None, 10)                260       \n",
            "=================================================================\n",
            "Total params: 20,535\n",
            "Trainable params: 20,535\n",
            "Non-trainable params: 0\n",
            "_________________________________________________________________\n"
          ],
          "name": "stdout"
        }
      ]
    },
    {
      "metadata": {
        "id": "uGNKgSPwk8U4",
        "colab_type": "text"
      },
      "cell_type": "markdown",
      "source": [
        "### Model interface\n",
        "\n",
        "Keras models follow __Scikit-learn__'s interface of fit/predict with some notable extensions. Let's take a tour."
      ]
    },
    {
      "metadata": {
        "id": "qyQ-_oFek8U5",
        "colab_type": "code",
        "colab": {
          "base_uri": "https://localhost:8080/",
          "height": 204
        },
        "outputId": "0a09d297-2641-48b1-e229-920fcc3a6ad2"
      },
      "cell_type": "code",
      "source": [
        "# fit(X,y) ships with a neat automatic logging.\n",
        "#          Highly customizable under the hood.\n",
        "model.fit(X_train, y_train,\n",
        "          validation_data=(X_val, y_val), epochs=5);"
      ],
      "execution_count": 9,
      "outputs": [
        {
          "output_type": "stream",
          "text": [
            "Train on 50000 samples, validate on 10000 samples\n",
            "Epoch 1/5\n",
            "50000/50000 [==============================] - 11s - loss: 0.4085 - acc: 0.8831 - val_loss: 0.3070 - val_acc: 0.9139\n",
            "Epoch 2/5\n",
            "50000/50000 [==============================] - 10s - loss: 0.3013 - acc: 0.9152 - val_loss: 0.2899 - val_acc: 0.9163\n",
            "Epoch 3/5\n",
            "50000/50000 [==============================] - 9s - loss: 0.2893 - acc: 0.9184 - val_loss: 0.2804 - val_acc: 0.9246\n",
            "Epoch 4/5\n",
            "50000/50000 [==============================] - 9s - loss: 0.2826 - acc: 0.9211 - val_loss: 0.2683 - val_acc: 0.9269\n",
            "Epoch 5/5\n",
            "50000/50000 [==============================] - 9s - loss: 0.2766 - acc: 0.9216 - val_loss: 0.2711 - val_acc: 0.9259\n"
          ],
          "name": "stdout"
        }
      ]
    },
    {
      "metadata": {
        "id": "Zw0cG9e7k8U9",
        "colab_type": "code",
        "colab": {
          "base_uri": "https://localhost:8080/",
          "height": 136
        },
        "outputId": "9b6d7030-53b2-4265-f7c8-e22ef3681af7"
      },
      "cell_type": "code",
      "source": [
        "# estimate probabilities P(y|x)\n",
        "model.predict_proba(X_val[:2])"
      ],
      "execution_count": 10,
      "outputs": [
        {
          "output_type": "stream",
          "text": [
            "\r2/2 [==============================] - 0s\n"
          ],
          "name": "stdout"
        },
        {
          "output_type": "execute_result",
          "data": {
            "text/plain": [
              "array([[1.21280636e-05, 3.39181162e-03, 3.97417359e-02, 8.88650060e-01,\n",
              "        5.30523494e-06, 1.56538878e-02, 5.77696890e-04, 3.10538506e-09,\n",
              "        5.19650169e-02, 2.31508102e-06],\n",
              "       [5.11251699e-07, 6.88309319e-06, 4.66618827e-03, 1.13428235e-02,\n",
              "        1.59252726e-03, 1.16285998e-02, 5.00231681e-06, 7.46546164e-07,\n",
              "        9.70664084e-01, 9.26717548e-05]], dtype=float32)"
            ]
          },
          "metadata": {
            "tags": []
          },
          "execution_count": 10
        }
      ]
    },
    {
      "metadata": {
        "id": "RFXZsbvWk8VB",
        "colab_type": "code",
        "colab": {}
      },
      "cell_type": "code",
      "source": [
        "# Save trained weights\n",
        "model.save(\"weights.h5\")"
      ],
      "execution_count": 0,
      "outputs": []
    },
    {
      "metadata": {
        "id": "4QfxO3Ypk8VE",
        "colab_type": "code",
        "colab": {
          "base_uri": "https://localhost:8080/",
          "height": 51
        },
        "outputId": "f7cc2509-02c5-420d-ab3d-4cd1bc4961e3"
      },
      "cell_type": "code",
      "source": [
        "print(\"\\nLoss, Accuracy = \", model.evaluate(X_test, y_test))"
      ],
      "execution_count": 12,
      "outputs": [
        {
          "output_type": "stream",
          "text": [
            " 9952/10000 [============================>.] - ETA: 0s\n",
            "Loss, Accuracy =  [0.2807105654209852, 0.9206]\n"
          ],
          "name": "stdout"
        }
      ]
    },
    {
      "metadata": {
        "id": "2K30iWe-k8VH",
        "colab_type": "text"
      },
      "cell_type": "markdown",
      "source": [
        "### Whoops!\n",
        "So far, our model is staggeringly inefficient. There is something wrong with it. Guess, what?"
      ]
    },
    {
      "metadata": {
        "id": "dCqks5blk8VI",
        "colab_type": "code",
        "colab": {
          "base_uri": "https://localhost:8080/",
          "height": 248
        },
        "outputId": "8c303cb7-f53e-4107-83c4-58f5731dcc27"
      },
      "cell_type": "code",
      "source": [
        "# Test score...\n",
        "test_predictions = model.predict_proba(X_test).argmax(axis=-1)\n",
        "test_answers = y_test.argmax(axis=-1)\n",
        "\n",
        "test_accuracy = np.mean(test_predictions==test_answers)\n",
        "\n",
        "print(\"\\nTest accuracy: {} %\".format(test_accuracy*100))\n",
        "\n",
        "assert test_accuracy>=0.92,\"Logistic regression can do better!\"\n",
        "assert test_accuracy>=0.975,\"Your network can do better!\"\n",
        "print(\"Great job!\")"
      ],
      "execution_count": 13,
      "outputs": [
        {
          "output_type": "stream",
          "text": [
            " 9760/10000 [============================>.] - ETA: 0s\n",
            "Test accuracy: 92.06 %\n"
          ],
          "name": "stdout"
        },
        {
          "output_type": "error",
          "ename": "AssertionError",
          "evalue": "ignored",
          "traceback": [
            "\u001b[0;31m---------------------------------------------------------------------------\u001b[0m",
            "\u001b[0;31mAssertionError\u001b[0m                            Traceback (most recent call last)",
            "\u001b[0;32m<ipython-input-13-ef8f0b0011be>\u001b[0m in \u001b[0;36m<module>\u001b[0;34m()\u001b[0m\n\u001b[1;32m      7\u001b[0m \u001b[0;34m\u001b[0m\u001b[0m\n\u001b[1;32m      8\u001b[0m \u001b[0;32massert\u001b[0m \u001b[0mtest_accuracy\u001b[0m\u001b[0;34m>=\u001b[0m\u001b[0;36m0.92\u001b[0m\u001b[0;34m,\u001b[0m\u001b[0;34m\"Logistic regression can do better!\"\u001b[0m\u001b[0;34m\u001b[0m\u001b[0m\n\u001b[0;32m----> 9\u001b[0;31m \u001b[0;32massert\u001b[0m \u001b[0mtest_accuracy\u001b[0m\u001b[0;34m>=\u001b[0m\u001b[0;36m0.975\u001b[0m\u001b[0;34m,\u001b[0m\u001b[0;34m\"Your network can do better!\"\u001b[0m\u001b[0;34m\u001b[0m\u001b[0m\n\u001b[0m\u001b[1;32m     10\u001b[0m \u001b[0mprint\u001b[0m\u001b[0;34m(\u001b[0m\u001b[0;34m\"Great job!\"\u001b[0m\u001b[0;34m)\u001b[0m\u001b[0;34m\u001b[0m\u001b[0m\n",
            "\u001b[0;31mAssertionError\u001b[0m: Your network can do better!"
          ]
        }
      ]
    },
    {
      "metadata": {
        "id": "Uszs-XZbk8VU",
        "colab_type": "text"
      },
      "cell_type": "markdown",
      "source": [
        "## Keras + tensorboard\n",
        "\n",
        "Remember the interactive graphs from Tensorboard one notebook ago? \n",
        "\n",
        "Thing is, Keras can use tensorboard to show you a lot of useful information about the learning progress. Just take a look!"
      ]
    },
    {
      "metadata": {
        "id": "9YXROKm4k8VX",
        "colab_type": "code",
        "colab": {
          "base_uri": "https://localhost:8080/",
          "height": 34
        },
        "outputId": "397d3f1d-daae-4b51-9a05-29779b0da80a"
      },
      "cell_type": "code",
      "source": [
        "! rm -r /tmp/tboard/**"
      ],
      "execution_count": 14,
      "outputs": [
        {
          "output_type": "stream",
          "text": [
            "rm: cannot remove '/tmp/tboard/**': No such file or directory\n"
          ],
          "name": "stdout"
        }
      ]
    },
    {
      "metadata": {
        "id": "MugpBd4Xk8Vc",
        "colab_type": "code",
        "colab": {
          "base_uri": "https://localhost:8080/",
          "height": 391
        },
        "outputId": "dbdc0378-3097-4526-beb4-708d7ddf323e"
      },
      "cell_type": "code",
      "source": [
        "from keras.callbacks import TensorBoard\n",
        "model.fit(X_train, y_train, validation_data=(X_val, y_val), \n",
        "          epochs=10,\n",
        "          callbacks=[TensorBoard(\"/tmp/tboard\")])"
      ],
      "execution_count": 15,
      "outputs": [
        {
          "output_type": "stream",
          "text": [
            "Train on 50000 samples, validate on 10000 samples\n",
            "Epoch 1/10\n",
            "50000/50000 [==============================] - 9s - loss: 0.2719 - acc: 0.9239 - val_loss: 0.2594 - val_acc: 0.9296\n",
            "Epoch 2/10\n",
            "50000/50000 [==============================] - 9s - loss: 0.2697 - acc: 0.9242 - val_loss: 0.2702 - val_acc: 0.9276\n",
            "Epoch 3/10\n",
            "50000/50000 [==============================] - 9s - loss: 0.2663 - acc: 0.9261 - val_loss: 0.2687 - val_acc: 0.9287\n",
            "Epoch 4/10\n",
            "50000/50000 [==============================] - 9s - loss: 0.2641 - acc: 0.9251 - val_loss: 0.2693 - val_acc: 0.9276\n",
            "Epoch 5/10\n",
            "50000/50000 [==============================] - 9s - loss: 0.2636 - acc: 0.9261 - val_loss: 0.2629 - val_acc: 0.9303\n",
            "Epoch 6/10\n",
            "50000/50000 [==============================] - 9s - loss: 0.2618 - acc: 0.9274 - val_loss: 0.2641 - val_acc: 0.9307\n",
            "Epoch 7/10\n",
            "50000/50000 [==============================] - 9s - loss: 0.2607 - acc: 0.9261 - val_loss: 0.2652 - val_acc: 0.9290\n",
            "Epoch 8/10\n",
            "50000/50000 [==============================] - 9s - loss: 0.2580 - acc: 0.9273 - val_loss: 0.2740 - val_acc: 0.9247\n",
            "Epoch 9/10\n",
            "50000/50000 [==============================] - 9s - loss: 0.2577 - acc: 0.9277 - val_loss: 0.2721 - val_acc: 0.9257\n",
            "Epoch 10/10\n",
            "50000/50000 [==============================] - 9s - loss: 0.2556 - acc: 0.9280 - val_loss: 0.2708 - val_acc: 0.9275\n"
          ],
          "name": "stdout"
        },
        {
          "output_type": "execute_result",
          "data": {
            "text/plain": [
              "<keras.callbacks.History at 0x7fc33398be10>"
            ]
          },
          "metadata": {
            "tags": []
          },
          "execution_count": 15
        }
      ]
    },
    {
      "metadata": {
        "id": "RZX4MEikk8Vh",
        "colab_type": "text"
      },
      "cell_type": "markdown",
      "source": [
        "# Tips & tricks\n",
        "\n",
        "Here are some tips on what you could do. Don't worry, to reach the passing threshold you don't need to try all the ideas listed here, feel free to stop once you reach the 0.975 accuracy mark.\n",
        "\n",
        " * __Network size__\n",
        "   * More neurons, \n",
        "   * More layers, ([docs](https://keras.io/))\n",
        "\n",
        "   * Nonlinearities in the hidden layers\n",
        "     * tanh, relu, leaky relu, etc\n",
        "   * Larger networks may take more epochs to train, so don't discard your net just because it could didn't beat the baseline in 5 epochs.\n",
        "\n",
        "\n",
        " * __Early Stopping__\n",
        "   * Training for 100 epochs regardless of anything is probably a bad idea.\n",
        "   * Some networks converge over 5 epochs, others - over 500.\n",
        "   * Way to go: stop when validation score is 10 iterations past maximum\n",
        "     \n",
        "\n",
        " * __Faster optimization__\n",
        "   * rmsprop, nesterov_momentum, adam, adagrad and so on.\n",
        "     * Converge faster and sometimes reach better optima\n",
        "     * It might make sense to tweak learning rate/momentum, other learning parameters, batch size and number of epochs\n",
        "\n",
        "\n",
        " * __Regularize__ to prevent overfitting\n",
        "   * Add some L2 weight norm to the loss function, theano will do the rest\n",
        "     * Can be done manually or via - https://keras.io/regularizers/\n",
        "   \n",
        "   \n",
        " * __Data augmemntation__ - getting 5x as large dataset for free is a great deal\n",
        "   * https://keras.io/preprocessing/image/\n",
        "   * Zoom-in+slice = move\n",
        "   * Rotate+zoom(to remove black stripes)\n",
        "   * any other perturbations\n",
        "   * Simple way to do that (if you have PIL/Image): \n",
        "     * ```from scipy.misc import imrotate,imresize```\n",
        "     * and a few slicing\n",
        "   * Stay realistic. There's usually no point in flipping dogs upside down as that is not the way you usually see them."
      ]
    }
  ]
}